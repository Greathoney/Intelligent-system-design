{
 "cells": [
  {
   "cell_type": "markdown",
   "metadata": {},
   "source": [
    "## 8장 딥러닝\n",
    "딥러닝은 층을 깊게 한 심층 신경망입니다. 심층 신경망은 지금까지 설명한 신경망을 바탕으로 뒷단에 층을 추가하기만 하면 만들 수 있지만, 커다란 문제가 몇 개 있습니다. 이번 장에서는 딥러닝의 특징과 과제, 그리고 가능성을 살펴봅니다. 또 오늘날의 첨단 딥러닝에 대한 설명도 준비했습니다."
   ]
  },
  {
   "cell_type": "markdown",
   "metadata": {},
   "source": [
    " Copyrights\n",
    "1. https://github.com/WegraLee/deep-learning-from-scratch\n",
    "\n",
    "### Customized by Gil-Jin Jang, May 6, 2021"
   ]
  },
  {
   "cell_type": "markdown",
   "metadata": {},
   "source": [
    "## 파일 설명\n",
    "| 파일명 | 파일 용도 | 관련 절 | 페이지 |\n",
    "|:--   |:--      |:--    |:--      |\n",
    "| awesome_net.py | 빈 파일입니다. 여기에 여러분만의 멋진 신경망을 구현해보세요! |  |  |\n",
    "| deep_convnet.py | [그림 8-1]의 깊은 신경망을 구현한 소스입니다. | 8.1.1 더 깊은 신경망으로 | 262 |\n",
    "| train_deepnet.py | deep_convnet.py의 신경망을 학습시킵니다. 몇 시간은 걸리기 때문에 다른 코드에서는 미리 학습된 가중치인 deep_convnet_params.pkl을 읽어서 사용합니다. | 8.1.1 더 깊은 신경망으로 | 262 |\n",
    "| deep_convnet_params.pkl | deep_convnet.py용 학습된 가중치입니다. |  |  |\n",
    "| misclassified_mnist.py | 이번 장에서 구현한 신경망이 인식에 실패한 손글씨 이미지들을 화면에 보여줍니다. | 8.1.1 더 깊은 신경망으로 | 263 |\n",
    "| half_float_network.py | 수치 정밀도를 반정밀도(16비트)로 낮춰 계산하여 배정밀도(64비트)일 때와 정확도를 비교해본다. | 8.3.4 연산 정밀도와 비트 줄이기 | 278 |\n",
    "\n",
    "\n",
    "## 목차\n",
    "```\n",
    "8.1 더 깊게 \n",
    "__8.1.1 더 깊은 네트워크로 \n",
    "__8.1.2 정확도를 더 높이려면 \n",
    "__8.1.3 깊게 하는 이유 \n",
    "8.2 딥러닝의 초기 역사 \n",
    "__8.2.1 이미지넷 \n",
    "__8.2.2 VGG \n",
    "__8.2.3 GoogLeNet \n",
    "__8.2.4 ResNet \n",
    "8.3 더 빠르게(딥러닝 고속화) \n",
    "__8.3.1 풀어야 할 숙제 \n",
    "__8.3.2 GPU를 활용한 고속화 \n",
    "__8.3.3 분산 학습 \n",
    "__8.3.4 연산 정밀도와 비트 줄이기 \n",
    "8.4 딥러닝의 활용 \n",
    "__8.4.1 사물 검출 \n",
    "__8.4.2 분할 \n",
    "__8.4.3 사진 캡션 생성 \n",
    "8.5 딥러닝의 미래 \n",
    "__8.5.1 이미지 스타일(화풍) 변환 \n",
    "__8.5.2 이미지 생성 \n",
    "__8.5.3 자율 주행 \n",
    "__8.5.4 Deep Q-Network(강화학습) \n",
    "```"
   ]
  },
  {
   "cell_type": "markdown",
   "metadata": {},
   "source": [
    "## 8.1 더 깊게 \n",
    "### 8.1.1 더 깊은 네트워크로 \n",
    "\n",
    "<img src=\"images/fig 8-1.png\">손글씨 심층 CNN</img>"
   ]
  },
  {
   "cell_type": "code",
   "execution_count": 1,
   "metadata": {},
   "outputs": [],
   "source": [
    "# coding: utf-8\n",
    "# deep_conv_net.py\n",
    "# [그림 8-1]의 깊은 신경망을 구현한 소스입니다.\n",
    "\n",
    "import sys, os\n",
    "sys.path.append(os.pardir)  # 부모 디렉터리의 파일을 가져올 수 있도록 설정\n",
    "import pickle\n",
    "import numpy as np\n",
    "from collections import OrderedDict\n",
    "from common.layers import *\n",
    "\n",
    "\n",
    "class DeepConvNet:\n",
    "    \"\"\"정확도 99% 이상의 고정밀 합성곱 신경망\n",
    "\n",
    "    네트워크 구성은 아래와 같음\n",
    "        conv - relu - conv- relu - pool -\n",
    "        conv - relu - conv- relu - pool -\n",
    "        conv - relu - conv- relu - pool -\n",
    "        affine - relu - dropout - affine - dropout - softmax\n",
    "    \"\"\"\n",
    "    def __init__(self, input_dim=(1, 28, 28),\n",
    "                 conv_param_1 = {'filter_num':16, 'filter_size':3, 'pad':1, 'stride':1},\n",
    "                 conv_param_2 = {'filter_num':16, 'filter_size':3, 'pad':1, 'stride':1},\n",
    "                 conv_param_3 = {'filter_num':32, 'filter_size':3, 'pad':1, 'stride':1},\n",
    "                 conv_param_4 = {'filter_num':32, 'filter_size':3, 'pad':2, 'stride':1},\n",
    "                 conv_param_5 = {'filter_num':64, 'filter_size':3, 'pad':1, 'stride':1},\n",
    "                 conv_param_6 = {'filter_num':64, 'filter_size':3, 'pad':1, 'stride':1},\n",
    "                 hidden_size=50, output_size=10):\n",
    "        # 가중치 초기화===========\n",
    "        # 각 층의 뉴런 하나당 앞 층의 몇 개 뉴런과 연결되는가（TODO: 자동 계산되게 바꿀 것）\n",
    "        pre_node_nums = np.array([1*3*3, 16*3*3, 16*3*3, 32*3*3, 32*3*3, 64*3*3, 64*4*4, hidden_size])\n",
    "        wight_init_scales = np.sqrt(2.0 / pre_node_nums)  # ReLU를 사용할 때의 권장 초깃값\n",
    "        \n",
    "        self.params = {}\n",
    "        pre_channel_num = input_dim[0]\n",
    "        for idx, conv_param in enumerate([conv_param_1, conv_param_2, conv_param_3, conv_param_4, conv_param_5, conv_param_6]):\n",
    "            self.params['W' + str(idx+1)] = wight_init_scales[idx] * np.random.randn(conv_param['filter_num'], pre_channel_num, conv_param['filter_size'], conv_param['filter_size'])\n",
    "            self.params['b' + str(idx+1)] = np.zeros(conv_param['filter_num'])\n",
    "            pre_channel_num = conv_param['filter_num']\n",
    "        self.params['W7'] = wight_init_scales[6] * np.random.randn(64*4*4, hidden_size)\n",
    "        self.params['b7'] = np.zeros(hidden_size)\n",
    "        self.params['W8'] = wight_init_scales[7] * np.random.randn(hidden_size, output_size)\n",
    "        self.params['b8'] = np.zeros(output_size)\n",
    "\n",
    "        # 계층 생성===========\n",
    "        self.layers = []\n",
    "        self.layers.append(Convolution(self.params['W1'], self.params['b1'], \n",
    "                           conv_param_1['stride'], conv_param_1['pad']))\n",
    "        self.layers.append(Relu())\n",
    "        self.layers.append(Convolution(self.params['W2'], self.params['b2'], \n",
    "                           conv_param_2['stride'], conv_param_2['pad']))\n",
    "        self.layers.append(Relu())\n",
    "        self.layers.append(Pooling(pool_h=2, pool_w=2, stride=2))\n",
    "        self.layers.append(Convolution(self.params['W3'], self.params['b3'], \n",
    "                           conv_param_3['stride'], conv_param_3['pad']))\n",
    "        self.layers.append(Relu())\n",
    "        self.layers.append(Convolution(self.params['W4'], self.params['b4'],\n",
    "                           conv_param_4['stride'], conv_param_4['pad']))\n",
    "        self.layers.append(Relu())\n",
    "        self.layers.append(Pooling(pool_h=2, pool_w=2, stride=2))\n",
    "        self.layers.append(Convolution(self.params['W5'], self.params['b5'],\n",
    "                           conv_param_5['stride'], conv_param_5['pad']))\n",
    "        self.layers.append(Relu())\n",
    "        self.layers.append(Convolution(self.params['W6'], self.params['b6'],\n",
    "                           conv_param_6['stride'], conv_param_6['pad']))\n",
    "        self.layers.append(Relu())\n",
    "        self.layers.append(Pooling(pool_h=2, pool_w=2, stride=2))\n",
    "        self.layers.append(Affine(self.params['W7'], self.params['b7']))\n",
    "        self.layers.append(Relu())\n",
    "        self.layers.append(Dropout(0.5))\n",
    "        self.layers.append(Affine(self.params['W8'], self.params['b8']))\n",
    "        self.layers.append(Dropout(0.5))\n",
    "        \n",
    "        self.last_layer = SoftmaxWithLoss()\n",
    "\n",
    "    def predict(self, x, train_flg=False):\n",
    "        for layer in self.layers:\n",
    "            if isinstance(layer, Dropout):\n",
    "                x = layer.forward(x, train_flg)\n",
    "            else:\n",
    "                x = layer.forward(x)\n",
    "        return x\n",
    "\n",
    "    def loss(self, x, t):\n",
    "        y = self.predict(x, train_flg=True)\n",
    "        return self.last_layer.forward(y, t)\n",
    "\n",
    "    def accuracy(self, x, t, batch_size=100):\n",
    "        if t.ndim != 1 : t = np.argmax(t, axis=1)\n",
    "\n",
    "        acc = 0.0\n",
    "\n",
    "        for i in range(int(x.shape[0] / batch_size)):\n",
    "            tx = x[i*batch_size:(i+1)*batch_size]\n",
    "            tt = t[i*batch_size:(i+1)*batch_size]\n",
    "            y = self.predict(tx, train_flg=False)\n",
    "            y = np.argmax(y, axis=1)\n",
    "            acc += np.sum(y == tt)\n",
    "\n",
    "        return acc / x.shape[0]\n",
    "\n",
    "    def gradient(self, x, t):\n",
    "        # forward\n",
    "        self.loss(x, t)\n",
    "\n",
    "        # backward\n",
    "        dout = 1\n",
    "        dout = self.last_layer.backward(dout)\n",
    "\n",
    "        tmp_layers = self.layers.copy()\n",
    "        tmp_layers.reverse()\n",
    "        for layer in tmp_layers:\n",
    "            dout = layer.backward(dout)\n",
    "\n",
    "        # 결과 저장\n",
    "        grads = {}\n",
    "        for i, layer_idx in enumerate((0, 2, 5, 7, 10, 12, 15, 18)):\n",
    "            grads['W' + str(i+1)] = self.layers[layer_idx].dW\n",
    "            grads['b' + str(i+1)] = self.layers[layer_idx].db\n",
    "\n",
    "        return grads\n",
    "\n",
    "    def save_params(self, file_name=\"params.pkl\"):\n",
    "        params = {}\n",
    "        for key, val in self.params.items():\n",
    "            params[key] = val\n",
    "        with open(file_name, 'wb') as f:\n",
    "            pickle.dump(params, f)\n",
    "\n",
    "    def load_params(self, file_name=\"params.pkl\"):\n",
    "        with open(file_name, 'rb') as f:\n",
    "            params = pickle.load(f)\n",
    "        for key, val in params.items():\n",
    "            self.params[key] = val\n",
    "\n",
    "        for i, layer_idx in enumerate((0, 2, 5, 7, 10, 12, 15, 18)):\n",
    "            self.layers[layer_idx].W = self.params['W' + str(i+1)]\n",
    "            self.layers[layer_idx].b = self.params['b' + str(i+1)]\n"
   ]
  },
  {
   "cell_type": "code",
   "execution_count": 2,
   "metadata": {
    "tags": []
   },
   "outputs": [
    {
     "output_type": "stream",
     "name": "stdout",
     "text": [
      "train loss:2.289029940044845\n",
      "=== epoch:1, train acc:0.162, test acc:0.158 ===\n",
      "train loss:2.2905278730168135\n",
      "train loss:2.2697637703647144\n",
      "train loss:2.202111507012904\n",
      "train loss:2.169426752084157\n",
      "train loss:2.2401500338456852\n",
      "train loss:2.2423987255937803\n",
      "train loss:2.221591512722507\n",
      "train loss:2.1937016750128873\n",
      "train loss:2.1665296650656303\n",
      "train loss:2.1569270661837354\n",
      "train loss:2.1819389759303602\n",
      "train loss:2.169752832746863\n",
      "train loss:2.0885505433366576\n",
      "train loss:2.0909466101360636\n",
      "train loss:1.9127828215279215\n",
      "train loss:2.179166652144955\n",
      "train loss:2.0699513299591095\n",
      "train loss:2.080603146155029\n",
      "train loss:2.10419311881949\n",
      "train loss:2.126822064617728\n",
      "train loss:2.1058193019547873\n",
      "train loss:2.177515882880178\n",
      "train loss:1.9407114036761226\n",
      "train loss:1.9971538532772184\n",
      "train loss:1.9128284140666718\n",
      "train loss:2.0766246326418187\n",
      "train loss:1.9564347255081886\n",
      "train loss:1.9644357556786614\n",
      "train loss:2.0329229383475793\n",
      "train loss:1.7404756250931306\n",
      "train loss:1.7109828073174944\n",
      "train loss:1.893223341633791\n",
      "train loss:1.828585865067953\n"
     ]
    },
    {
     "output_type": "error",
     "ename": "KeyboardInterrupt",
     "evalue": "",
     "traceback": [
      "\u001b[1;31m---------------------------------------------------------------------------\u001b[0m",
      "\u001b[1;31mKeyboardInterrupt\u001b[0m                         Traceback (most recent call last)",
      "\u001b[1;32m<ipython-input-2-b575eeff533e>\u001b[0m in \u001b[0;36m<module>\u001b[1;34m\u001b[0m\n\u001b[0;32m     25\u001b[0m                   \u001b[0moptimizer\u001b[0m\u001b[1;33m=\u001b[0m\u001b[1;34m'Adam'\u001b[0m\u001b[1;33m,\u001b[0m \u001b[0moptimizer_param\u001b[0m\u001b[1;33m=\u001b[0m\u001b[1;33m{\u001b[0m\u001b[1;34m'lr'\u001b[0m\u001b[1;33m:\u001b[0m\u001b[1;36m0.001\u001b[0m\u001b[1;33m}\u001b[0m\u001b[1;33m,\u001b[0m\u001b[1;33m\u001b[0m\u001b[1;33m\u001b[0m\u001b[0m\n\u001b[0;32m     26\u001b[0m                   evaluate_sample_num_per_epoch=1000)\n\u001b[1;32m---> 27\u001b[1;33m \u001b[0mtrainer\u001b[0m\u001b[1;33m.\u001b[0m\u001b[0mtrain\u001b[0m\u001b[1;33m(\u001b[0m\u001b[1;33m)\u001b[0m\u001b[1;33m\u001b[0m\u001b[1;33m\u001b[0m\u001b[0m\n\u001b[0m\u001b[0;32m     28\u001b[0m \u001b[1;33m\u001b[0m\u001b[0m\n\u001b[0;32m     29\u001b[0m \u001b[1;31m# 매개변수 보관\u001b[0m\u001b[1;33m\u001b[0m\u001b[1;33m\u001b[0m\u001b[1;33m\u001b[0m\u001b[0m\n",
      "\u001b[1;32mc:\\Users\\thyoo\\Intelligent-system-design\\hw8\\common\\trainer.py\u001b[0m in \u001b[0;36mtrain\u001b[1;34m(self)\u001b[0m\n\u001b[0;32m     69\u001b[0m     \u001b[1;32mdef\u001b[0m \u001b[0mtrain\u001b[0m\u001b[1;33m(\u001b[0m\u001b[0mself\u001b[0m\u001b[1;33m)\u001b[0m\u001b[1;33m:\u001b[0m\u001b[1;33m\u001b[0m\u001b[1;33m\u001b[0m\u001b[0m\n\u001b[0;32m     70\u001b[0m         \u001b[1;32mfor\u001b[0m \u001b[0mi\u001b[0m \u001b[1;32min\u001b[0m \u001b[0mrange\u001b[0m\u001b[1;33m(\u001b[0m\u001b[0mself\u001b[0m\u001b[1;33m.\u001b[0m\u001b[0mmax_iter\u001b[0m\u001b[1;33m)\u001b[0m\u001b[1;33m:\u001b[0m\u001b[1;33m\u001b[0m\u001b[1;33m\u001b[0m\u001b[0m\n\u001b[1;32m---> 71\u001b[1;33m             \u001b[0mself\u001b[0m\u001b[1;33m.\u001b[0m\u001b[0mtrain_step\u001b[0m\u001b[1;33m(\u001b[0m\u001b[1;33m)\u001b[0m\u001b[1;33m\u001b[0m\u001b[1;33m\u001b[0m\u001b[0m\n\u001b[0m\u001b[0;32m     72\u001b[0m \u001b[1;33m\u001b[0m\u001b[0m\n\u001b[0;32m     73\u001b[0m         \u001b[0mtest_acc\u001b[0m \u001b[1;33m=\u001b[0m \u001b[0mself\u001b[0m\u001b[1;33m.\u001b[0m\u001b[0mnetwork\u001b[0m\u001b[1;33m.\u001b[0m\u001b[0maccuracy\u001b[0m\u001b[1;33m(\u001b[0m\u001b[0mself\u001b[0m\u001b[1;33m.\u001b[0m\u001b[0mx_test\u001b[0m\u001b[1;33m,\u001b[0m \u001b[0mself\u001b[0m\u001b[1;33m.\u001b[0m\u001b[0mt_test\u001b[0m\u001b[1;33m)\u001b[0m\u001b[1;33m\u001b[0m\u001b[1;33m\u001b[0m\u001b[0m\n",
      "\u001b[1;32mc:\\Users\\thyoo\\Intelligent-system-design\\hw8\\common\\trainer.py\u001b[0m in \u001b[0;36mtrain_step\u001b[1;34m(self)\u001b[0m\n\u001b[0;32m     42\u001b[0m         \u001b[0mt_batch\u001b[0m \u001b[1;33m=\u001b[0m \u001b[0mself\u001b[0m\u001b[1;33m.\u001b[0m\u001b[0mt_train\u001b[0m\u001b[1;33m[\u001b[0m\u001b[0mbatch_mask\u001b[0m\u001b[1;33m]\u001b[0m\u001b[1;33m\u001b[0m\u001b[1;33m\u001b[0m\u001b[0m\n\u001b[0;32m     43\u001b[0m \u001b[1;33m\u001b[0m\u001b[0m\n\u001b[1;32m---> 44\u001b[1;33m         \u001b[0mgrads\u001b[0m \u001b[1;33m=\u001b[0m \u001b[0mself\u001b[0m\u001b[1;33m.\u001b[0m\u001b[0mnetwork\u001b[0m\u001b[1;33m.\u001b[0m\u001b[0mgradient\u001b[0m\u001b[1;33m(\u001b[0m\u001b[0mx_batch\u001b[0m\u001b[1;33m,\u001b[0m \u001b[0mt_batch\u001b[0m\u001b[1;33m)\u001b[0m\u001b[1;33m\u001b[0m\u001b[1;33m\u001b[0m\u001b[0m\n\u001b[0m\u001b[0;32m     45\u001b[0m         \u001b[0mself\u001b[0m\u001b[1;33m.\u001b[0m\u001b[0moptimizer\u001b[0m\u001b[1;33m.\u001b[0m\u001b[0mupdate\u001b[0m\u001b[1;33m(\u001b[0m\u001b[0mself\u001b[0m\u001b[1;33m.\u001b[0m\u001b[0mnetwork\u001b[0m\u001b[1;33m.\u001b[0m\u001b[0mparams\u001b[0m\u001b[1;33m,\u001b[0m \u001b[0mgrads\u001b[0m\u001b[1;33m)\u001b[0m\u001b[1;33m\u001b[0m\u001b[1;33m\u001b[0m\u001b[0m\n\u001b[0;32m     46\u001b[0m \u001b[1;33m\u001b[0m\u001b[0m\n",
      "\u001b[1;32mc:\\Users\\thyoo\\Intelligent-system-design\\hw8\\deep_convnet.py\u001b[0m in \u001b[0;36mgradient\u001b[1;34m(self, x, t)\u001b[0m\n\u001b[0;32m    100\u001b[0m     \u001b[1;32mdef\u001b[0m \u001b[0mgradient\u001b[0m\u001b[1;33m(\u001b[0m\u001b[0mself\u001b[0m\u001b[1;33m,\u001b[0m \u001b[0mx\u001b[0m\u001b[1;33m,\u001b[0m \u001b[0mt\u001b[0m\u001b[1;33m)\u001b[0m\u001b[1;33m:\u001b[0m\u001b[1;33m\u001b[0m\u001b[1;33m\u001b[0m\u001b[0m\n\u001b[0;32m    101\u001b[0m         \u001b[1;31m# forward\u001b[0m\u001b[1;33m\u001b[0m\u001b[1;33m\u001b[0m\u001b[1;33m\u001b[0m\u001b[0m\n\u001b[1;32m--> 102\u001b[1;33m         \u001b[0mself\u001b[0m\u001b[1;33m.\u001b[0m\u001b[0mloss\u001b[0m\u001b[1;33m(\u001b[0m\u001b[0mx\u001b[0m\u001b[1;33m,\u001b[0m \u001b[0mt\u001b[0m\u001b[1;33m)\u001b[0m\u001b[1;33m\u001b[0m\u001b[1;33m\u001b[0m\u001b[0m\n\u001b[0m\u001b[0;32m    103\u001b[0m \u001b[1;33m\u001b[0m\u001b[0m\n\u001b[0;32m    104\u001b[0m         \u001b[1;31m# backward\u001b[0m\u001b[1;33m\u001b[0m\u001b[1;33m\u001b[0m\u001b[1;33m\u001b[0m\u001b[0m\n",
      "\u001b[1;32mc:\\Users\\thyoo\\Intelligent-system-design\\hw8\\deep_convnet.py\u001b[0m in \u001b[0;36mloss\u001b[1;34m(self, x, t)\u001b[0m\n\u001b[0;32m     81\u001b[0m \u001b[1;33m\u001b[0m\u001b[0m\n\u001b[0;32m     82\u001b[0m     \u001b[1;32mdef\u001b[0m \u001b[0mloss\u001b[0m\u001b[1;33m(\u001b[0m\u001b[0mself\u001b[0m\u001b[1;33m,\u001b[0m \u001b[0mx\u001b[0m\u001b[1;33m,\u001b[0m \u001b[0mt\u001b[0m\u001b[1;33m)\u001b[0m\u001b[1;33m:\u001b[0m\u001b[1;33m\u001b[0m\u001b[1;33m\u001b[0m\u001b[0m\n\u001b[1;32m---> 83\u001b[1;33m         \u001b[0my\u001b[0m \u001b[1;33m=\u001b[0m \u001b[0mself\u001b[0m\u001b[1;33m.\u001b[0m\u001b[0mpredict\u001b[0m\u001b[1;33m(\u001b[0m\u001b[0mx\u001b[0m\u001b[1;33m,\u001b[0m \u001b[0mtrain_flg\u001b[0m\u001b[1;33m=\u001b[0m\u001b[1;32mTrue\u001b[0m\u001b[1;33m)\u001b[0m\u001b[1;33m\u001b[0m\u001b[1;33m\u001b[0m\u001b[0m\n\u001b[0m\u001b[0;32m     84\u001b[0m         \u001b[1;32mreturn\u001b[0m \u001b[0mself\u001b[0m\u001b[1;33m.\u001b[0m\u001b[0mlast_layer\u001b[0m\u001b[1;33m.\u001b[0m\u001b[0mforward\u001b[0m\u001b[1;33m(\u001b[0m\u001b[0my\u001b[0m\u001b[1;33m,\u001b[0m \u001b[0mt\u001b[0m\u001b[1;33m)\u001b[0m\u001b[1;33m\u001b[0m\u001b[1;33m\u001b[0m\u001b[0m\n\u001b[0;32m     85\u001b[0m \u001b[1;33m\u001b[0m\u001b[0m\n",
      "\u001b[1;32mc:\\Users\\thyoo\\Intelligent-system-design\\hw8\\deep_convnet.py\u001b[0m in \u001b[0;36mpredict\u001b[1;34m(self, x, train_flg)\u001b[0m\n\u001b[0;32m     77\u001b[0m                 \u001b[0mx\u001b[0m \u001b[1;33m=\u001b[0m \u001b[0mlayer\u001b[0m\u001b[1;33m.\u001b[0m\u001b[0mforward\u001b[0m\u001b[1;33m(\u001b[0m\u001b[0mx\u001b[0m\u001b[1;33m,\u001b[0m \u001b[0mtrain_flg\u001b[0m\u001b[1;33m)\u001b[0m\u001b[1;33m\u001b[0m\u001b[1;33m\u001b[0m\u001b[0m\n\u001b[0;32m     78\u001b[0m             \u001b[1;32melse\u001b[0m\u001b[1;33m:\u001b[0m\u001b[1;33m\u001b[0m\u001b[1;33m\u001b[0m\u001b[0m\n\u001b[1;32m---> 79\u001b[1;33m                 \u001b[0mx\u001b[0m \u001b[1;33m=\u001b[0m \u001b[0mlayer\u001b[0m\u001b[1;33m.\u001b[0m\u001b[0mforward\u001b[0m\u001b[1;33m(\u001b[0m\u001b[0mx\u001b[0m\u001b[1;33m)\u001b[0m\u001b[1;33m\u001b[0m\u001b[1;33m\u001b[0m\u001b[0m\n\u001b[0m\u001b[0;32m     80\u001b[0m         \u001b[1;32mreturn\u001b[0m \u001b[0mx\u001b[0m\u001b[1;33m\u001b[0m\u001b[1;33m\u001b[0m\u001b[0m\n\u001b[0;32m     81\u001b[0m \u001b[1;33m\u001b[0m\u001b[0m\n",
      "\u001b[1;32mc:\\Users\\thyoo\\Intelligent-system-design\\hw8\\common\\layers.py\u001b[0m in \u001b[0;36mforward\u001b[1;34m(self, x)\u001b[0m\n\u001b[0;32m     12\u001b[0m         \u001b[0mself\u001b[0m\u001b[1;33m.\u001b[0m\u001b[0mmask\u001b[0m \u001b[1;33m=\u001b[0m \u001b[1;33m(\u001b[0m\u001b[0mx\u001b[0m \u001b[1;33m<=\u001b[0m \u001b[1;36m0\u001b[0m\u001b[1;33m)\u001b[0m\u001b[1;33m\u001b[0m\u001b[1;33m\u001b[0m\u001b[0m\n\u001b[0;32m     13\u001b[0m         \u001b[0mout\u001b[0m \u001b[1;33m=\u001b[0m \u001b[0mx\u001b[0m\u001b[1;33m.\u001b[0m\u001b[0mcopy\u001b[0m\u001b[1;33m(\u001b[0m\u001b[1;33m)\u001b[0m\u001b[1;33m\u001b[0m\u001b[1;33m\u001b[0m\u001b[0m\n\u001b[1;32m---> 14\u001b[1;33m         \u001b[0mout\u001b[0m\u001b[1;33m[\u001b[0m\u001b[0mself\u001b[0m\u001b[1;33m.\u001b[0m\u001b[0mmask\u001b[0m\u001b[1;33m]\u001b[0m \u001b[1;33m=\u001b[0m \u001b[1;36m0\u001b[0m\u001b[1;33m\u001b[0m\u001b[1;33m\u001b[0m\u001b[0m\n\u001b[0m\u001b[0;32m     15\u001b[0m \u001b[1;33m\u001b[0m\u001b[0m\n\u001b[0;32m     16\u001b[0m         \u001b[1;32mreturn\u001b[0m \u001b[0mout\u001b[0m\u001b[1;33m\u001b[0m\u001b[1;33m\u001b[0m\u001b[0m\n",
      "\u001b[1;31mKeyboardInterrupt\u001b[0m: "
     ]
    }
   ],
   "source": [
    "# coding: utf-8\n",
    "# train_deepnet.py\n",
    "# deep_convnet_params.pkl \n",
    "# deep_convnet.py의 신경망을 학습시킵니다. 몇 시간은 걸리기 때문에 다른 코드에서는 미리 학습된 가중치인 deep_convnet_params.pkl을 읽어서 사용합니다. | 8.1.1 더 깊은 신경망으로 | 262 |\n",
    "\n",
    "import sys, os\n",
    "sys.path.append(os.pardir)  # 부모 디렉터리의 파일을 가져올 수 있도록 설정\n",
    "import numpy as np\n",
    "import matplotlib.pyplot as plt\n",
    "from dataset.mnist import load_mnist\n",
    "from deep_convnet import DeepConvNet\n",
    "from common.trainer import Trainer\n",
    "\n",
    "(x_train, t_train), (x_test, t_test) = load_mnist(flatten=False)\n",
    "\n",
    "\n",
    "# # 시간이 오래 걸릴 경우 데이터를 줄인다.\n",
    "# x_train, t_train = x_train[:5000], t_train[:5000]\n",
    "# x_test, t_test = x_test[:1000], t_test[:1000]\n",
    "\n",
    "\n",
    "network = DeepConvNet()  \n",
    "trainer = Trainer(network, x_train, t_train, x_test, t_test,\n",
    "                  epochs=20, mini_batch_size=100,\n",
    "                  optimizer='Adam', optimizer_param={'lr':0.001},\n",
    "                  evaluate_sample_num_per_epoch=1000)\n",
    "trainer.train()\n",
    "\n",
    "# 매개변수 보관\n",
    "network.save_params(\"deep_convnet_params.pkl\")\n",
    "print(\"Saved Network Parameters!\")"
   ]
  },
  {
   "cell_type": "code",
   "execution_count": 6,
   "metadata": {},
   "outputs": [
    {
     "output_type": "stream",
     "name": "stdout",
     "text": [
      "calculating test accuracy ... \n",
      "test accuracy:0.867\n",
      "======= misclassified result =======\n",
      "{view index: (label, inference), ...}\n",
      "{1: (4, 6), 2: (7, 5), 3: (4, 6), 4: (5, 7), 5: (9, 5), 6: (4, 6), 7: (6, 4), 8: (3, 4), 9: (6, 0), 10: (3, 6), 11: (7, 9), 12: (6, 4), 13: (2, 4), 14: (2, 6), 15: (4, 2), 16: (4, 6), 17: (8, 6), 18: (9, 7), 19: (2, 4), 20: (6, 2)}\n"
     ]
    },
    {
     "output_type": "display_data",
     "data": {
      "text/plain": "<Figure size 432x288 with 20 Axes>",
      "image/svg+xml": "<?xml version=\"1.0\" encoding=\"utf-8\" standalone=\"no\"?>\r\n<!DOCTYPE svg PUBLIC \"-//W3C//DTD SVG 1.1//EN\"\r\n  \"http://www.w3.org/Graphics/SVG/1.1/DTD/svg11.dtd\">\r\n<!-- Created with matplotlib (https://matplotlib.org/) -->\r\n<svg height=\"305.9pt\" version=\"1.1\" viewBox=\"0 0 438.025937 305.9\" width=\"438.025937pt\" xmlns=\"http://www.w3.org/2000/svg\" xmlns:xlink=\"http://www.w3.org/1999/xlink\">\r\n <metadata>\r\n  <rdf:RDF xmlns:cc=\"http://creativecommons.org/ns#\" xmlns:dc=\"http://purl.org/dc/elements/1.1/\" xmlns:rdf=\"http://www.w3.org/1999/02/22-rdf-syntax-ns#\">\r\n   <cc:Work>\r\n    <dc:type rdf:resource=\"http://purl.org/dc/dcmitype/StillImage\"/>\r\n    <dc:date>2021-05-06T11:15:34.236245</dc:date>\r\n    <dc:format>image/svg+xml</dc:format>\r\n    <dc:creator>\r\n     <cc:Agent>\r\n      <dc:title>Matplotlib v3.3.4, https://matplotlib.org/</dc:title>\r\n     </cc:Agent>\r\n    </dc:creator>\r\n   </cc:Work>\r\n  </rdf:RDF>\r\n </metadata>\r\n <defs>\r\n  <style type=\"text/css\">*{stroke-linecap:butt;stroke-linejoin:round;}</style>\r\n </defs>\r\n <g id=\"figure_1\">\r\n  <g id=\"patch_1\">\r\n   <path d=\"M 0 305.9 \r\nL 438.025937 305.9 \r\nL 438.025937 0 \r\nL 0 0 \r\nz\r\n\" style=\"fill:none;\"/>\r\n  </g>\r\n  <g id=\"axes_1\">\r\n   <g id=\"patch_2\">\r\n    <path d=\"M 10.7 69.808696 \r\nL 73.308696 69.808696 \r\nL 73.308696 7.2 \r\nL 10.7 7.2 \r\nz\r\n\" style=\"fill:#ffffff;\"/>\r\n   </g>\r\n   <g clip-path=\"url(#p272a38006d)\">\r\n    <image height=\"63\" id=\"imagef585777f82\" transform=\"scale(1 -1)translate(0 -63)\" width=\"63\" x=\"10.7\" xlink:href=\"data:image/png;base64,\r\niVBORw0KGgoAAAANSUhEUgAAAD8AAAA/CAYAAABXXxDfAAAFhElEQVR4nO2buU7dWhSGPyDMQ4AwKMwUiCCBECDxAJR0SIiCMlIaGirEO/AKvALUNBREdBGCBoHCGEUQkQjEPCaEW+T+9rKPw7EPUNxr/82B7WX72P/a/xr2PlkPDw8PpMGnT58AOD4+BuDdu3fOscPDQwD6+vo859jLZmVlpbtFJGxtbQGQl5cHQE5OTopNfX192utkP+u3+o/hVRiji4sLAM7PzwE4Oztzji0sLACpzD832xazs7MAdHR0ANDf3+8c+/37d+jrxJr5WD98VhjB297eBmBnZwfwCl5XVxcAJycnL/D1glFXVwfA5OQkAOPj484xiXJFRUXa68Sa+VCCJ+fQp948uOFmZmYGgJaWFgAODg5SrvPmzRsAbm9vAa84dXd3A/Djxw8AsrP/8NLc3OzYrK6uAlBSUgLAwMAAAHd3d2EeIwUJ82mNXv0xu7m5AbxJRUFBAQBLS0sAtLa2Al42CgsLAaisrARgc3MTgF+/fjk2xcXFAJSWlgLw8+dPz/UBlpeXAderGhsbU+6VhLqQCMW83v79/X3KMc1xzdUg5pXwyANyc3MBbwos79IxzXmL6+trAF6/fg24HhgiYAUi1szH+uFDub0gl7SQK3/58gVwp4bCGbgurWNy06DryUaCZ3F5eem5Z1FREeCtNYIqvL8hYT4dJFhBwtLU1ATAx48fPbb5+fnuTf5lXoxJzKyAakz3kK2Fqkuxq097HRsa0yFhPh0eY/7t27eAm7jIxrKhMSU1+rThzF//ByUr6+vrgDvXBZssBYXIvyFhPh1UvOit2jftn5unp6eAm6aCq9wqSKQHll1/BAiau7p2bW2tZzxhPgPE+uFDub0/37bCp0pNUJPTCpi/xay8P8i1JZRBoe7o6Ahw6wnBTp8ojdOE+bDQG766unLGent7PTaqvNS1sfYSvqDqUKKlewQxqCSnvb3dM25FTglVGCTMp4O/WLCFRENDg+eYmLeFjTRCoU7MW8bEuMbE4P7+vmPz/ft3ANra2jz3tBqUFDYhEamTo7dqWfWrvVJPy6rms+Z8UCkrpsWiIoLtFOtvv7dFSWw852V01v8EsX74SKFOLmkFTwmHPpXkVFVVOTYSM7m9/rfJiT/8KTyWl5c7Y2pZa+1d0y9x+wwQiXlVYzbJUTKixUstbFhRFPxhyP7vD3VKaCzzQ0NDnu8hUYyS2FgkzIeFCpQg5svKygB3Xtq0VwWJ2A3q5EhPpAtBycrw8DDgLm1Je2zvIAoS5sNCyY7mI7hzXN0VbQqwmxWU1MhzxLxVeM1feYfOsZGls7MTSF0yz3T/T6yZj/XDR3J7dVfsCqy/86LkxgqW300F23iUvb9Jam00xTSmMKhxiCZ+CfNhoTdtmZewaReUPwEBl1WJmYQziFWFOq3BW1GsqakBXBFUK1vjUZEwHxZi3i5CKqlRqKuurgbcDcnghi2xK+bU2QE3XCkh2tvbA7z1vPqCCpnyLvt9oiBhPizElFVUMdzT0wO4CVDQoqaOiTnbm/entTrfptL+JW7/gmVUxJr5WD98RoWw3dS7uLgIuAsJcl9VeeC2nxXalAhpqtjzJJgKX1+/fnVstCdH08ZuTc0EsWY+1JZzf/VkExhtCVWyIwFcW1tzbEZHRwG3KlPItMnJxsaG556fP38GvB0hhT15icJr0sPLAKGYjwJtPbd1+Pv37wEYHBwE3ARmd3fXsVEYlAf4l6ReArFmPrO25yOQon/79s0ZGxkZAWBubg6AiYkJAFZWVhyb+fl5AMbGxgCYnp4GvEtT/iWtp/6CK9bMx/rhnyx4qrf9ObmttBSalJtrDd8uSPhXcD98+ADA1NTUU77eo0iYf44LPSZC/t+66Xd6tuaX58hj9Hu9l0Ssmf8HmG+c1kwSrvUAAAAASUVORK5CYII=\" y=\"-6.808696\"/>\r\n   </g>\r\n   <g id=\"matplotlib.axis_1\"/>\r\n   <g id=\"matplotlib.axis_2\"/>\r\n   <g id=\"patch_3\">\r\n    <path d=\"M 10.7 69.808696 \r\nL 10.7 7.2 \r\n\" style=\"fill:none;stroke:#000000;stroke-linecap:square;stroke-linejoin:miter;stroke-width:0.8;\"/>\r\n   </g>\r\n   <g id=\"patch_4\">\r\n    <path d=\"M 73.308696 69.808696 \r\nL 73.308696 7.2 \r\n\" style=\"fill:none;stroke:#000000;stroke-linecap:square;stroke-linejoin:miter;stroke-width:0.8;\"/>\r\n   </g>\r\n   <g id=\"patch_5\">\r\n    <path d=\"M 10.7 69.808696 \r\nL 73.308696 69.808696 \r\n\" style=\"fill:none;stroke:#000000;stroke-linecap:square;stroke-linejoin:miter;stroke-width:0.8;\"/>\r\n   </g>\r\n   <g id=\"patch_6\">\r\n    <path d=\"M 10.7 7.2 \r\nL 73.308696 7.2 \r\n\" style=\"fill:none;stroke:#000000;stroke-linecap:square;stroke-linejoin:miter;stroke-width:0.8;\"/>\r\n   </g>\r\n  </g>\r\n  <g id=\"axes_2\">\r\n   <g id=\"patch_7\">\r\n    <path d=\"M 100.07931 69.808696 \r\nL 162.688006 69.808696 \r\nL 162.688006 7.2 \r\nL 100.07931 7.2 \r\nz\r\n\" style=\"fill:#ffffff;\"/>\r\n   </g>\r\n   <g clip-path=\"url(#p6dae41d433)\">\r\n    <image height=\"63\" id=\"image4bc55433dc\" transform=\"scale(1 -1)translate(0 -63)\" width=\"63\" x=\"100.07931\" xlink:href=\"data:image/png;base64,\r\niVBORw0KGgoAAAANSUhEUgAAAD8AAAA/CAYAAABXXxDfAAADiElEQVR4nO2auUo0QRSFv9Z238UlEkFEEcRAxEyMTExkAiP1DfQBfAAxMDc1NtYXEAM1FcFEBEXEXXHf+w/kVFXPjPIv8E9QdZKp7rpdVafPrXtvNRMlSZLgKYoKvYBCIpD3FYG8rwjkfUUg7ysCeV8RyPuKQN5XBPK+Ir6+vgZgYWEBgMbGRtN5cXEBwOvrKwClpaUAPD4+GpurqysAioq+3uP7+3vqGiCOYwA+Pz8BeHp6AiCKImOjsbPnqq2tNTZ6Xr8at76+3tiUl5eneHR3dwMwMjKSQ95r5aOJiYkEYHl5GYD+/n7TqbcoNaS4q0ZTUxMA9/f3AHx8fORMUlxcDFil9Ot6h5QWSkpKAKiurjb35FVax+3tLQDPz8/G5u3tLTWHnpEXA8zOzn7Nn7NSj+A1+SiTySQA5+fnAExNTZnOnZ0dwLqV3LSystLYKPhkX2uruG0FuLKyMgBeXl6Mje5VVFQA1u1daF7NcXd3B8DNzY2x0T1tF619d3fX2Mjea+Xjzs5OADY3NwGrNtiA0tHRAUBLSwtggwjA8fExkFYRbLAEq5iUl6oaD/KnNrCBFKC1tRWwQVUe5a5HSmvtJycnOTanp6eA58pH6+vrCcDQ0BAA8/PzplPpQoWM3mq+okJ9rlKC9p88QIq5KSpbedlIQbBpNTstuuMoDUppzbm1tWVsJicnAc+Vjx8eHgDo6uoC4OjoyHQeHBwAtkBoaGgAbCEBUFNTA0Bvby8AfX19QLqAUVvjSA23lJZ3KZLLo9zYIS+Qd6nPzT6KI+3t7anrmZkZY6PM4rXyXpOPFbzkgm5KqKurA2wwVKBxA87e3h4AGxsbAKytraWeAZsOtTU0lxsc5bpnZ2eA3SKXl5fGpqenJzX2wMAAAM3NzX9A2cJv5aWGUFVVZdpjY2NArmL5ytvDw0MAlpaWgHTg1ElxZWUlNa5blm5vbwO2oFIAds/hCmI/QQWQ1qVgq5OlC6+Vj/SfnPHxcQCmp6dN5/Dw8F8PPDo6atqDg4OAjRXa626qU0rKZDKATaEupKqbRr+D+5XoOwTlwX5X05HShfqyy0oX2XtqdXXVtHVoUrm8v78PwNzcnLFpa2vLO+5PX4b+FV4r7zX56H/8CXFxcRGw3wp0nQ9azu8ErH9FUL7QiygUvFY+kPcVgbyvCOR9RSDvKwJ5XxHI+4pA3lcE8r4ikPcVvwAkNWZ0iyWH4wAAAABJRU5ErkJggg==\" y=\"-6.808696\"/>\r\n   </g>\r\n   <g id=\"matplotlib.axis_3\"/>\r\n   <g id=\"matplotlib.axis_4\"/>\r\n   <g id=\"patch_8\">\r\n    <path d=\"M 100.07931 69.808696 \r\nL 100.07931 7.2 \r\n\" style=\"fill:none;stroke:#000000;stroke-linecap:square;stroke-linejoin:miter;stroke-width:0.8;\"/>\r\n   </g>\r\n   <g id=\"patch_9\">\r\n    <path d=\"M 162.688006 69.808696 \r\nL 162.688006 7.2 \r\n\" style=\"fill:none;stroke:#000000;stroke-linecap:square;stroke-linejoin:miter;stroke-width:0.8;\"/>\r\n   </g>\r\n   <g id=\"patch_10\">\r\n    <path d=\"M 100.07931 69.808696 \r\nL 162.688006 69.808696 \r\n\" style=\"fill:none;stroke:#000000;stroke-linecap:square;stroke-linejoin:miter;stroke-width:0.8;\"/>\r\n   </g>\r\n   <g id=\"patch_11\">\r\n    <path d=\"M 100.07931 7.2 \r\nL 162.688006 7.2 \r\n\" style=\"fill:none;stroke:#000000;stroke-linecap:square;stroke-linejoin:miter;stroke-width:0.8;\"/>\r\n   </g>\r\n  </g>\r\n  <g id=\"axes_3\">\r\n   <g id=\"patch_12\">\r\n    <path d=\"M 189.458621 69.808696 \r\nL 252.067316 69.808696 \r\nL 252.067316 7.2 \r\nL 189.458621 7.2 \r\nz\r\n\" style=\"fill:#ffffff;\"/>\r\n   </g>\r\n   <g clip-path=\"url(#p23bb2a1bb3)\">\r\n    <image height=\"63\" id=\"image1f7dd0c31a\" transform=\"scale(1 -1)translate(0 -63)\" width=\"63\" x=\"189.458621\" xlink:href=\"data:image/png;base64,\r\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\" y=\"-6.808696\"/>\r\n   </g>\r\n   <g id=\"matplotlib.axis_5\"/>\r\n   <g id=\"matplotlib.axis_6\"/>\r\n   <g id=\"patch_13\">\r\n    <path d=\"M 189.458621 69.808696 \r\nL 189.458621 7.2 \r\n\" style=\"fill:none;stroke:#000000;stroke-linecap:square;stroke-linejoin:miter;stroke-width:0.8;\"/>\r\n   </g>\r\n   <g id=\"patch_14\">\r\n    <path d=\"M 252.067316 69.808696 \r\nL 252.067316 7.2 \r\n\" style=\"fill:none;stroke:#000000;stroke-linecap:square;stroke-linejoin:miter;stroke-width:0.8;\"/>\r\n   </g>\r\n   <g id=\"patch_15\">\r\n    <path d=\"M 189.458621 69.808696 \r\nL 252.067316 69.808696 \r\n\" style=\"fill:none;stroke:#000000;stroke-linecap:square;stroke-linejoin:miter;stroke-width:0.8;\"/>\r\n   </g>\r\n   <g id=\"patch_16\">\r\n    <path d=\"M 189.458621 7.2 \r\nL 252.067316 7.2 \r\n\" style=\"fill:none;stroke:#000000;stroke-linecap:square;stroke-linejoin:miter;stroke-width:0.8;\"/>\r\n   </g>\r\n  </g>\r\n  <g id=\"axes_4\">\r\n   <g id=\"patch_17\">\r\n    <path d=\"M 278.837931 69.808696 \r\nL 341.446627 69.808696 \r\nL 341.446627 7.2 \r\nL 278.837931 7.2 \r\nz\r\n\" style=\"fill:#ffffff;\"/>\r\n   </g>\r\n   <g clip-path=\"url(#pb7b42f70e6)\">\r\n    <image height=\"63\" id=\"image92f1439f01\" transform=\"scale(1 -1)translate(0 -63)\" width=\"63\" x=\"278.837931\" xlink:href=\"data:image/png;base64,\r\niVBORw0KGgoAAAANSUhEUgAAAD8AAAA/CAYAAABXXxDfAAAEQ0lEQVR4nO3aSciOXRgH8N/Da57HIhakDIUoJMqwYkVsyIKFkndpY8HCzs6ShZJhJxaykJIMUeYSicicOTK9xvf5Fr7rnOehD/Xpe+s793/zDOd/3/e5zv8aznWep1av1+sKRaeOnkBHojK+VFTGl4rK+FJRGV8qKuNLRWV8qaiMLxWV8aWiJQ5yarXaL8m3b98GO3bsSN99+vQJvHnzBnz48AG0tbUlzsKFC8G7d+/AixcvwPLlyxOnZ8+eTdcH986dO4lz7do1MHLkSHDhwgXQrVu3H+bz6NEjMHHiRLBmzZrE6devHwpXvvb9Gd7OnTvT+61bt4KXL18ir/CtW7cSp729/duN/vacUGXChAmJE6t/5coVcPjwYWSVG6/v3LkzGD58OLh3794Pk167di2y8mfPnk1jc+bMQfak69evg5aWlsTZu3cvCle+aONrbW1tdZg7dy4YOnRoGvzy5QsYOHAg6N+/P3JSIYdEuPmUKVNAr169Euf169dN9/v69Su4efNm4hw6dAhEFA4ZMgTMmDEjceL5Hz9+BL1790ZObo3zCO7du3fB0aNHE2fWrFkoXfn9+/fX4cSJE2hexUGDBiEnpig706dPT5wRI0aA48ePg3379oF169YlzsWLF8GoUaPAxo0bwfr16xMnxt6/fw+6du0Khg0bljhjx44FY8aMAV26dEFOao1zDO+KBHr//v3EWbx4MQpXviVW9saNG+DZs2dpMOIu1OjTpw9ynDdeN27cODB+/HjkUkOOvwcPHoADBw40fSaXw1evXiGXwx49eiRO5I5FixaBqVOngu3btyfOgAEDwKVLl8D58+eR803jPYtWvtbe3l6HpUuXgs+fP6fBWMXnz58jr9iyZcsSJ3JFVIDIwI3b24i/iMfIJRGP5AweG6mHDx+CyZMnJ05seCKHxLNGjx6dODH/7t27I1eLxvwSKFr5oo1Pe/vLly8jux9MmzYNuQs7c+YMchjAkydPkPuAlStXIpeqRn64YiS16AvIySxCIzqvxtZj8ODBYMmSJeDq1ato7jWiJ4gkHc+O8gibNm1Cpfyf+WfG6dOnwbFjx8CGDRvSWCSd6N+jLw+vIZe91atXg1OnTiGrTe4YDx48CJ4+fQpmz56dOOExUZbjXKDRo7ds2YLSlY9SF+WoEVGKwjnitbFE/RPOnTuX3m/btg25jIUajcqvWLECeQOzYMEC5DwBffv2BfPnz0dWNzZN0KnTNz2/zxmrVq1KnHnz5n3j/tKK/zH+WMz/DmbOnAkeP36M5gYpMnioOGnSJNDa2po4ofzPEA3M5s2bwdu3b8Hu3bt/4BatfNHG/6duv2fPHnDy5Ek0d5BR2nbt2oV83P1v8bOj+Ur5jp4EHDlyBHnDEiWucXq/88PK9yc4P0OlfEdPoqNQtPKV8aWiMr5UVMaXisr4UlEZXyoq40tFZXypqIwvFX8Bs07AnUY5NVQAAAAASUVORK5CYII=\" y=\"-6.808696\"/>\r\n   </g>\r\n   <g id=\"matplotlib.axis_7\"/>\r\n   <g id=\"matplotlib.axis_8\"/>\r\n   <g id=\"patch_18\">\r\n    <path d=\"M 278.837931 69.808696 \r\nL 278.837931 7.2 \r\n\" style=\"fill:none;stroke:#000000;stroke-linecap:square;stroke-linejoin:miter;stroke-width:0.8;\"/>\r\n   </g>\r\n   <g id=\"patch_19\">\r\n    <path d=\"M 341.446627 69.808696 \r\nL 341.446627 7.2 \r\n\" style=\"fill:none;stroke:#000000;stroke-linecap:square;stroke-linejoin:miter;stroke-width:0.8;\"/>\r\n   </g>\r\n   <g id=\"patch_20\">\r\n    <path d=\"M 278.837931 69.808696 \r\nL 341.446627 69.808696 \r\n\" style=\"fill:none;stroke:#000000;stroke-linecap:square;stroke-linejoin:miter;stroke-width:0.8;\"/>\r\n   </g>\r\n   <g id=\"patch_21\">\r\n    <path d=\"M 278.837931 7.2 \r\nL 341.446627 7.2 \r\n\" style=\"fill:none;stroke:#000000;stroke-linecap:square;stroke-linejoin:miter;stroke-width:0.8;\"/>\r\n   </g>\r\n  </g>\r\n  <g id=\"axes_5\">\r\n   <g id=\"patch_22\">\r\n    <path d=\"M 368.217241 69.808696 \r\nL 430.825937 69.808696 \r\nL 430.825937 7.2 \r\nL 368.217241 7.2 \r\nz\r\n\" style=\"fill:#ffffff;\"/>\r\n   </g>\r\n   <g clip-path=\"url(#p5ad5e741cb)\">\r\n    <image height=\"63\" id=\"image4d08ba39b4\" transform=\"scale(1 -1)translate(0 -63)\" width=\"63\" x=\"368.217241\" xlink:href=\"data:image/png;base64,\r\niVBORw0KGgoAAAANSUhEUgAAAD8AAAA/CAYAAABXXxDfAAAEXklEQVR4nO3ZOYsVWxQF4K+1necBB0Rw6KxFTQQVDDVRTBpF/QPmGogg+AdEEwVTG0UTMRETu0FQEDQRHAJHWsVZnOehX9Bvn1O3b6sP7UeDp1Zyi6p169Sutfc+65xq6e3t7VUohg31Awwl6uBLRR18qaiDLxV18KWiDr5U1MGXijr4UtH6pzd49uwZuHv3LmhpaQGTJk1KnIkTJ4Lp06f/0VgnT54Ez58/B8uXLwejRo1KnHv37oFp06Y1XPvw4UPiLFq0CIUr39J/J+f27dvp+MSJE+DChQvg2rVryGrD169fwZs3b8CIESPA8OHDE2fYsL53/P79e7B582awZ8+exAmlfoZly5aBmzdvgu/fv4PXr183cWPMxYsXg0uXLqVrZ86c6eP8csS/GK1XrlxBVuH69evp4qdPn5DfcGtrX4uYNWtW4sS1qPXPnz+DakJFNgTn/PnzYO7cuYmzcOFCsGTJErB06VKwZcuWxJk5cyZ4+/YtGmu9P2KsyZMnI9c5zJ8/H4UrX3TwLfv27euFQ4cOoXGKiunh48ePyCk9fvz4xIm0jzSPlIxfGD16dAM30nXMmDGJE/eOUouG9eXLl8SJKbPaTMnlWH3mb9++ITfS+/fvJ87Ro0f7xlAw0lS3adMmNDa8aDDRmMaNGwdWrlyZOE+fPgWvXr1quPHFixfT8cOHD8G7d+/Ay5cv0dgU495jx45FVreqfPy/mnlNAf3b6OJ/kRVhwqCrqwuFK5+KZd26dWg0HjElTJgwAdy4cQPcunUrcRYsWABWrVoF2tvbkRWE06dPI9d4KFc1J5FBd+7cAbt27QI7duxInLa2NmR7G5lZta7RX6KvjBw5EjmzYPbs2Shc+SZ7++LFi3R89epV5E48ZcoUcPbs2cSJHhHWd86cOWhcxPT09IAnT540/CfUhq1bt4KDBw/+8GHDkEWWhcphZKpjRLbGDFEd68CBAyhc+aKDb0r730WsBnfu3Ik8vZFLIdbjsRJ89OhR4lTN1a8Q02hHRwcaTc7q1avB48ePkZtzTIHk0qqVr54IW1g9DkpYzlil/Qy7d+9Ox6FUTJXxO9C4/ROxamWr6lXR3d2djg8fPgyOHTuG3AyjWcO5c+dQKz84NR+3GUidbdu2IS8oqv3g/8b+/fvBkSNH0rnYTyha+T/evQ38qB5h7969yAuaePMrVqxo4j548ABcvnwZ2dhUz8V9wi6H2SGbmzVr1iDb5bVr1zaNVbTyRQc/aA2vP6pTZv+dlzAnYX7Iq8BTp04hb4VXUzrWGJHaYWQG2iaPkghOZ2dn4qxfv76P+xtx/TUYtIYXiESqqhFZEOeOHz+Oxq3rqVOnIu8PxEqwilijRzbMmDEDec1O3gMMyxuGbCD7XLTyg17z/VX+r9i4cSOychs2bED+eAHz5s1DrueBxogPlfF5KvYOtm/f3sStlR/qhxgqFK18HXypqIMvFXXwpaIOvlTUwZeKOvhSUQdfKv4BMOS35p2dbh0AAAAASUVORK5CYII=\" y=\"-6.808696\"/>\r\n   </g>\r\n   <g id=\"matplotlib.axis_9\"/>\r\n   <g id=\"matplotlib.axis_10\"/>\r\n   <g id=\"patch_23\">\r\n    <path d=\"M 368.217241 69.808696 \r\nL 368.217241 7.2 \r\n\" style=\"fill:none;stroke:#000000;stroke-linecap:square;stroke-linejoin:miter;stroke-width:0.8;\"/>\r\n   </g>\r\n   <g id=\"patch_24\">\r\n    <path d=\"M 430.825937 69.808696 \r\nL 430.825937 7.2 \r\n\" style=\"fill:none;stroke:#000000;stroke-linecap:square;stroke-linejoin:miter;stroke-width:0.8;\"/>\r\n   </g>\r\n   <g id=\"patch_25\">\r\n    <path d=\"M 368.217241 69.808696 \r\nL 430.825937 69.808696 \r\n\" style=\"fill:none;stroke:#000000;stroke-linecap:square;stroke-linejoin:miter;stroke-width:0.8;\"/>\r\n   </g>\r\n   <g id=\"patch_26\">\r\n    <path d=\"M 368.217241 7.2 \r\nL 430.825937 7.2 \r\n\" style=\"fill:none;stroke:#000000;stroke-linecap:square;stroke-linejoin:miter;stroke-width:0.8;\"/>\r\n   </g>\r\n  </g>\r\n  <g id=\"axes_6\">\r\n   <g id=\"patch_27\">\r\n    <path d=\"M 10.7 144.93913 \r\nL 73.308696 144.93913 \r\nL 73.308696 82.330435 \r\nL 10.7 82.330435 \r\nz\r\n\" style=\"fill:#ffffff;\"/>\r\n   </g>\r\n   <g clip-path=\"url(#p0353b135bd)\">\r\n    <image height=\"63\" id=\"image2143969f85\" transform=\"scale(1 -1)translate(0 -63)\" width=\"63\" x=\"10.7\" xlink:href=\"data:image/png;base64,\r\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\" y=\"-81.93913\"/>\r\n   </g>\r\n   <g id=\"matplotlib.axis_11\"/>\r\n   <g id=\"matplotlib.axis_12\"/>\r\n   <g id=\"patch_28\">\r\n    <path d=\"M 10.7 144.93913 \r\nL 10.7 82.330435 \r\n\" style=\"fill:none;stroke:#000000;stroke-linecap:square;stroke-linejoin:miter;stroke-width:0.8;\"/>\r\n   </g>\r\n   <g id=\"patch_29\">\r\n    <path d=\"M 73.308696 144.93913 \r\nL 73.308696 82.330435 \r\n\" style=\"fill:none;stroke:#000000;stroke-linecap:square;stroke-linejoin:miter;stroke-width:0.8;\"/>\r\n   </g>\r\n   <g id=\"patch_30\">\r\n    <path d=\"M 10.7 144.93913 \r\nL 73.308696 144.93913 \r\n\" style=\"fill:none;stroke:#000000;stroke-linecap:square;stroke-linejoin:miter;stroke-width:0.8;\"/>\r\n   </g>\r\n   <g id=\"patch_31\">\r\n    <path d=\"M 10.7 82.330435 \r\nL 73.308696 82.330435 \r\n\" style=\"fill:none;stroke:#000000;stroke-linecap:square;stroke-linejoin:miter;stroke-width:0.8;\"/>\r\n   </g>\r\n  </g>\r\n  <g id=\"axes_7\">\r\n   <g id=\"patch_32\">\r\n    <path d=\"M 100.07931 144.93913 \r\nL 162.688006 144.93913 \r\nL 162.688006 82.330435 \r\nL 100.07931 82.330435 \r\nz\r\n\" style=\"fill:#ffffff;\"/>\r\n   </g>\r\n   <g clip-path=\"url(#p08b5f0caca)\">\r\n    <image height=\"63\" id=\"imagec7cb85e2cf\" transform=\"scale(1 -1)translate(0 -63)\" width=\"63\" x=\"100.07931\" xlink:href=\"data:image/png;base64,\r\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\" y=\"-81.93913\"/>\r\n   </g>\r\n   <g id=\"matplotlib.axis_13\"/>\r\n   <g id=\"matplotlib.axis_14\"/>\r\n   <g id=\"patch_33\">\r\n    <path d=\"M 100.07931 144.93913 \r\nL 100.07931 82.330435 \r\n\" style=\"fill:none;stroke:#000000;stroke-linecap:square;stroke-linejoin:miter;stroke-width:0.8;\"/>\r\n   </g>\r\n   <g id=\"patch_34\">\r\n    <path d=\"M 162.688006 144.93913 \r\nL 162.688006 82.330435 \r\n\" style=\"fill:none;stroke:#000000;stroke-linecap:square;stroke-linejoin:miter;stroke-width:0.8;\"/>\r\n   </g>\r\n   <g id=\"patch_35\">\r\n    <path d=\"M 100.07931 144.93913 \r\nL 162.688006 144.93913 \r\n\" style=\"fill:none;stroke:#000000;stroke-linecap:square;stroke-linejoin:miter;stroke-width:0.8;\"/>\r\n   </g>\r\n   <g id=\"patch_36\">\r\n    <path d=\"M 100.07931 82.330435 \r\nL 162.688006 82.330435 \r\n\" style=\"fill:none;stroke:#000000;stroke-linecap:square;stroke-linejoin:miter;stroke-width:0.8;\"/>\r\n   </g>\r\n  </g>\r\n  <g id=\"axes_8\">\r\n   <g id=\"patch_37\">\r\n    <path d=\"M 189.458621 144.93913 \r\nL 252.067316 144.93913 \r\nL 252.067316 82.330435 \r\nL 189.458621 82.330435 \r\nz\r\n\" style=\"fill:#ffffff;\"/>\r\n   </g>\r\n   <g clip-path=\"url(#pe276508590)\">\r\n    <image height=\"63\" id=\"image1a3ffec69d\" transform=\"scale(1 -1)translate(0 -63)\" width=\"63\" x=\"189.458621\" xlink:href=\"data:image/png;base64,\r\niVBORw0KGgoAAAANSUhEUgAAAD8AAAA/CAYAAABXXxDfAAAFEUlEQVR4nO2by0odSxSGP+/3mHgjoqhEQU0QRHAgStBJghNfQ3DkA/gC6jso5AUyMwMnjtSJENQkiKJiouAl3khi4vUMPH91de2dHO1yktP9T3p39aob/6q1Vq2qnXFzc3PDA2B/fx+A9fV1ALKzs823trY2AEZHRwFobm4GYHNz08h8/PgRgPHxcQAqKysBePv2rZF58eIFAOXl5aFnVGR61f7LkRGF+a9fv5rfXV1dtw1lZABwfn4OQH5+vpHZ3t4G4OnTpwCsrq4C0N7ebmSur69DfXz69AmAmpoaU1ZUVARAZuYtZ2VlZQDMzMzcdwq37USq9T9BrCef/d8iqbANTUNDAwA7OzshmYqKCvN7Y2MDgPr6egCOj48BePLkSUrb379/BwIVf/z4sfmWl5cHwK9fvwB4/vx5lOEbJMz7oKOjA4Dd3V0Azs7OACgsLDQyMn4yajKKP3/+NDKyu2LcdpW/w8DAgNfYE+Z90NfXB8C7d+8AyMnJAVJdl10mTbC9rJhWmd61ziFwp9Ku7u5ur7EnzPugt7cXCNZxbm4uAFdXV0ZGZWKuoKAAgMvLSyPjaoPeJQsB4/IkJSUlXmOPNfOxnry32ssg1dbWAsHuTipuy7gqbRtFycv9qY4MKMDh4SEAw8PDvsMGEuYfBq9fvwbgzZs3QNiNiT0ZQTFvG0U3qLFdnJCVlRVq+9u3bwAUFxdHGnOsmY+0n7cxODgIwOLiYqjcZu7g4AAINikXFxehJwTuS2xq7dubH7lThdI9PT0ATExMRBp7rJn3XvNbW1tAsM1MF+RoPcu6y7JrDUMQ8EgRZSdsW6AMkjY/ygVGRayZj/XkHyzI0VPxt5KMEKi5VFrf7KXhytr1BbUttU9X/z5ImPeB2BCqq6uBIE8HAYt2yAthg5cysH8NnZ0vVOpbBxxue/dFwrwP3JCztbUVgPfv3xsZe98OgSaki68U+irIefnypfn24cMHIHCZf9KcuyBh3gf2sRRAXV0dEIS0AMvLyyFZWek/rVlpR1NTkymbn58HAo2xM8RREGvmYz15b7V3k5NSafuYSWoqAyUZO5CRjNqRq1P2BmBtbS3Up91HFCTM+0BhrRhbWVkBwm4sXajqlrvM69ve3p6RUeCklHXUDI7p36v2Xw5v5t2DA+257UyOy7zWvl2uwMWVXVpaMr9PT0+B4CDDPgaPgoR5Hzx69Cj0buflfoe7pA219pUhgmCNq4/S0tI7jzMdYs18rCf/4Gqv4ypbXWX83OAmXWzvurzPnz+ntCMkQY4HvJnXJUExJsbt+zbafUnmLuGt3OHJyYmRkTtU6Jsw7wFv5nW3Tszpme6g0b2nYwdIR0dHQJD1kawytZDqRpObGR7wZv7Zs2dAam7evkujNe5uaW0ZbVq0npUVtr2Ju332RayZj/XkvdVed3Hceza2arplev/x44eRcVPgkrWNnFyj+vRFwvxDQMZLhsp2dWJTjOuZ7oKh+08N+3xe9V69evUgY44185Hu5NjHT2JmdnYWgKGhISB8mOG6Ju3L7QBGhxzugYYdGMntTU1NhfqOioR5nwbc3Nv09DQAY2NjRubLly9AarZVeXgI/q6izYqCnv7+fiOjm5dVVVVp+74vYs18rCfvrfbubi6dCsqYdXZ2hmTsrnX5sLGxEYC5ubk79x011k+Yv2+lP1Vxd3AQMLOwsADA5OQkAC0tLUZGZ+8jIyOhb7arczM5CfMe+AcgORoOp3fzrQAAAABJRU5ErkJggg==\" y=\"-81.93913\"/>\r\n   </g>\r\n   <g id=\"matplotlib.axis_15\"/>\r\n   <g id=\"matplotlib.axis_16\"/>\r\n   <g id=\"patch_38\">\r\n    <path d=\"M 189.458621 144.93913 \r\nL 189.458621 82.330435 \r\n\" style=\"fill:none;stroke:#000000;stroke-linecap:square;stroke-linejoin:miter;stroke-width:0.8;\"/>\r\n   </g>\r\n   <g id=\"patch_39\">\r\n    <path d=\"M 252.067316 144.93913 \r\nL 252.067316 82.330435 \r\n\" style=\"fill:none;stroke:#000000;stroke-linecap:square;stroke-linejoin:miter;stroke-width:0.8;\"/>\r\n   </g>\r\n   <g id=\"patch_40\">\r\n    <path d=\"M 189.458621 144.93913 \r\nL 252.067316 144.93913 \r\n\" style=\"fill:none;stroke:#000000;stroke-linecap:square;stroke-linejoin:miter;stroke-width:0.8;\"/>\r\n   </g>\r\n   <g id=\"patch_41\">\r\n    <path d=\"M 189.458621 82.330435 \r\nL 252.067316 82.330435 \r\n\" style=\"fill:none;stroke:#000000;stroke-linecap:square;stroke-linejoin:miter;stroke-width:0.8;\"/>\r\n   </g>\r\n  </g>\r\n  <g id=\"axes_9\">\r\n   <g id=\"patch_42\">\r\n    <path d=\"M 278.837931 144.93913 \r\nL 341.446627 144.93913 \r\nL 341.446627 82.330435 \r\nL 278.837931 82.330435 \r\nz\r\n\" style=\"fill:#ffffff;\"/>\r\n   </g>\r\n   <g clip-path=\"url(#p652ebc885d)\">\r\n    <image height=\"63\" id=\"image7decf7f4fa\" transform=\"scale(1 -1)translate(0 -63)\" width=\"63\" x=\"278.837931\" xlink:href=\"data:image/png;base64,\r\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\" y=\"-81.93913\"/>\r\n   </g>\r\n   <g id=\"matplotlib.axis_17\"/>\r\n   <g id=\"matplotlib.axis_18\"/>\r\n   <g id=\"patch_43\">\r\n    <path d=\"M 278.837931 144.93913 \r\nL 278.837931 82.330435 \r\n\" style=\"fill:none;stroke:#000000;stroke-linecap:square;stroke-linejoin:miter;stroke-width:0.8;\"/>\r\n   </g>\r\n   <g id=\"patch_44\">\r\n    <path d=\"M 341.446627 144.93913 \r\nL 341.446627 82.330435 \r\n\" style=\"fill:none;stroke:#000000;stroke-linecap:square;stroke-linejoin:miter;stroke-width:0.8;\"/>\r\n   </g>\r\n   <g id=\"patch_45\">\r\n    <path d=\"M 278.837931 144.93913 \r\nL 341.446627 144.93913 \r\n\" style=\"fill:none;stroke:#000000;stroke-linecap:square;stroke-linejoin:miter;stroke-width:0.8;\"/>\r\n   </g>\r\n   <g id=\"patch_46\">\r\n    <path d=\"M 278.837931 82.330435 \r\nL 341.446627 82.330435 \r\n\" style=\"fill:none;stroke:#000000;stroke-linecap:square;stroke-linejoin:miter;stroke-width:0.8;\"/>\r\n   </g>\r\n  </g>\r\n  <g id=\"axes_10\">\r\n   <g id=\"patch_47\">\r\n    <path d=\"M 368.217241 144.93913 \r\nL 430.825937 144.93913 \r\nL 430.825937 82.330435 \r\nL 368.217241 82.330435 \r\nz\r\n\" style=\"fill:#ffffff;\"/>\r\n   </g>\r\n   <g clip-path=\"url(#p0722537643)\">\r\n    <image height=\"63\" id=\"image46c1f2e16a\" transform=\"scale(1 -1)translate(0 -63)\" width=\"63\" x=\"368.217241\" xlink:href=\"data:image/png;base64,\r\niVBORw0KGgoAAAANSUhEUgAAAD8AAAA/CAYAAABXXxDfAAAEQklEQVR4nO1bSU/zMBB9hQJlR+xrWSR66j/g/yP1zoETQkIgBAIhIfZCvwPfc8YTN5LtXIr9LnEc23H6xuNZ3MZgMBjAE+/v76Z8d3cHAHh5ebGuX19fpg3LHx8fAIDn5+fSmD8/PwCAqakpAMDCwgIAYG1tzbRhXbPZBABsbm76Tt3CWFTvEUcjhPmZmRlT/v7+BgCMjdm/Y6vVMmWySpBdCU6DbXk/OTlp2hwcHAAAer0eAOD+/h4AsLq66vsJv3MO6vVHkPTHN0M6dbvdUt34+Lh1PzExYcoUZSqqRqNhXV3gM9eqPDk5AQBMT0/7TLuEzLwvJGNklYqPz97e3kwbSoVWZq4xqTh5le/SSlUqwxBk5n0h2SCrZJPPpA4gY8PaWhNSesH13svLy5Bpl5CZ94U0XWmwcM0TrrXKaxXzVaDksJ82nnyRNPNJf3yQ2EsDZpgIu5RilbjqNhxXbm/aj5DzCEFm3hfSrHx6erKe0ZvTBglQNmulscM6siuVKkGmtUEUisy8L2Qkh+wxyuIyXbnGua5pyEh2yWq/37fazs3Nld4byziRmffFxsaGKV9cXAAoGCdzMpJDhrWDIw0j1mlTWO4aHMcVCQpB0swn/fHRkZzT01MAwNbWFgDg9fUVgC32XApUalRc0kihmH9+flr3ElwmctnFIDPvi/39fVNmIoKMu0AWqbAeHh4AAIuLi6aN3g6p6KRyY11ssoLIzPtidnbWlLk1cT3yyrULFNsg43qUEhnn29nZscZjf2nQUHLW19dDpl1CZt4XnU7HlLnmtVlb5ZgsLS0NHZv9OJ40hLhrHB4eBsy6jKSZT/rjg8T++PjYlGnM6KiKvKfosm55eRmAHdHRWxyv9ACBYttrt9sh0y4hM+8LaZwwZeRKLxHaU6MkSFa1V+dKXlByVlZWQqZdnlcto4wogpiXmJ+fB1BmTm59ZJF1VYdBqiSIklO1VfogMx8DnpaiccKYm9TkZL4qpaW1vDabgULb7+7uxk779x21jDKiSPrjo8We287t7e3vgP9FnIcRgSLJwQgO27hSUYQrsXF1dQUg/OiZRmY+Btx2rq+vARR+OD0wCZ3UlMzrcDaNJykRMo5QBzLzMeC2c3Z2ZtW7oq8EWZbboU5B8V62qStZYd5R62gjhmjm6V7qM3bSadEGjIv5YYcbZJu6HBoiaeaT/vhosd/b2wNQ9thc2VXtzbnO5uhjrHLLzGJfI6KZZ9Kw6rSEVnguZabjALyXIfDt7W1r3NDDjOadQb3+CGrz52mOco26nBZtukroNU4nSJq3TGkRmfkIRDNPNmh66oMIsk6vdWkCa5eWa10aSzJNJscLRdLMJ/3x0WJP8dZH0eQ2dn5+bj1jH6kUKcJHR0fW+PKvpzLnL99R5UFWIWnmg/5O6sLNzQ2AIrJTdRzcldgwE1IHkB8fH80zfRZHJ0p8kTTz/wA2UdeBxXLl7wAAAABJRU5ErkJggg==\" y=\"-81.93913\"/>\r\n   </g>\r\n   <g id=\"matplotlib.axis_19\"/>\r\n   <g id=\"matplotlib.axis_20\"/>\r\n   <g id=\"patch_48\">\r\n    <path d=\"M 368.217241 144.93913 \r\nL 368.217241 82.330435 \r\n\" style=\"fill:none;stroke:#000000;stroke-linecap:square;stroke-linejoin:miter;stroke-width:0.8;\"/>\r\n   </g>\r\n   <g id=\"patch_49\">\r\n    <path d=\"M 430.825937 144.93913 \r\nL 430.825937 82.330435 \r\n\" style=\"fill:none;stroke:#000000;stroke-linecap:square;stroke-linejoin:miter;stroke-width:0.8;\"/>\r\n   </g>\r\n   <g id=\"patch_50\">\r\n    <path d=\"M 368.217241 144.93913 \r\nL 430.825937 144.93913 \r\n\" style=\"fill:none;stroke:#000000;stroke-linecap:square;stroke-linejoin:miter;stroke-width:0.8;\"/>\r\n   </g>\r\n   <g id=\"patch_51\">\r\n    <path d=\"M 368.217241 82.330435 \r\nL 430.825937 82.330435 \r\n\" style=\"fill:none;stroke:#000000;stroke-linecap:square;stroke-linejoin:miter;stroke-width:0.8;\"/>\r\n   </g>\r\n  </g>\r\n  <g id=\"axes_11\">\r\n   <g id=\"patch_52\">\r\n    <path d=\"M 10.7 220.069565 \r\nL 73.308696 220.069565 \r\nL 73.308696 157.46087 \r\nL 10.7 157.46087 \r\nz\r\n\" style=\"fill:#ffffff;\"/>\r\n   </g>\r\n   <g clip-path=\"url(#p4e432d2e86)\">\r\n    <image height=\"63\" id=\"image3b6c38ed9c\" transform=\"scale(1 -1)translate(0 -63)\" width=\"63\" x=\"10.7\" xlink:href=\"data:image/png;base64,\r\niVBORw0KGgoAAAANSUhEUgAAAD8AAAA/CAYAAABXXxDfAAAEe0lEQVR4nO2auy9lXRjGf8b9MogQg7gWNBoT0YjKrSN0EolIxB8g06jVk0yjUmhUolGIRC+mUUgUJOIaIYz7/Xq+Qp691t5nEzN8OcU6T8M5612Xdz/vde2TEIlEIjiKL7E+QCwRV95VxJV3FXHlXUVceVfhtPJJwS/sajchIeF/3fzp6cn7//b2FoDn52ffORITE6POo7+SSU5OjpL58sXPa/AzOM6808onvKerk3keHBwAsLKy4o3t7OwAcH9/D8Dj4yPgd59v374BUF5eDkBJSQkAhYWFf3XYu7s7wLjCxcUFYFwl7BzX19cAZGRkeDKlpaVAnPkXis7PzwGYnJz0BqempgBYX18HzJPX0wTIzs4G4ObmBjCBxWYjGLx2d3ejDlJWVgZAY2MjAC0tLQC0trZ6MgUFBQCkpaX9nZaEB3K3mR8ZGYkAzMzMAMZXAL5+/QpASkoKYPzp7OzMk9ETFdOab6eWh4cHwDAv2aSkpCiZy8tLwFjZ4eGhJ6M1ldoUM2R9AHl5eYCxpMrKSgDq6uo8ma6urpf1Qh6IM0hoamqKgInaubm53qD8OFhU2MWJ2FCRIoQlETGuyFtUVOSNyQoUwU9PT6Pma82srCzf57f2kkXZFvTr16+Xs0fNcghOK580OzsLQEdHB+A3IZmyApzcIDMz05OReaWnpwMmqNlukJOT41snNTU1ai8Fuj9//gBwdXXlWxdMENT+Sn0ybTDBT+nw5OTENxeMSznN/LvK26WlJQAWFhYAGB0d9caKi4sBWFtbA0wwVFACE2zEospcpU4wliLmlc7CLFEBs7q62vfZ3kNWure3B8Dv3789GVmB28w/Pz9H4OO9u8pilcLDw8Pe2MDAAAATExMA1NbWAqaIApNqxZhSn10mC/JxjVVVVXljsgZZyfb2NuBnXuW128y/5fPBIiLsdiUIRfTj42Pvu42NDQB6e3sB07TMz897MooVKpreCkXBYsvOLIryaqPVsNkyW1tbL3u9uoMDcFr5d6W6IMJ6YwUh+zJRkHnKXb5//w6YQsaGgpjSoO1irx1VRZO9pjpRBbfx8XFPpqenB4gz/zm/zAj28zbEQhBjY2Pe/4ODg4DpwzUnbL1gwLOtTfNUyGxubvrm2HCa+aiXFv8KpagwlmUVwRcHtuyPHz8AmJ6eBvzNymt7Be8ZwMQKFUtKeaHrvDriAD7N5z+K9vZ2AObm5gCoqKgA/P6sQiXIvF0Cq8nRO4b8/HwAVldXo/Z0mnmnlf+0gPdR/Pz5E4Dl5WUA+vv7AdP7Q/TVt2AHUqVGFT52rx+E08zHJOCJHfulhaD7Pr18sFkWw2I1+C7fXlt9fENDA2BuoWw4zXxMfD6McUG3Mipy7Bsm9eZHR0eA/w5Q0J1iZ2cnYO4QwuA08zEtcuzXXorki4uLALS1tQH+Enh/fx8wftzc3AxAd3e3J1NfX//u/Z1m3mnlY2r2b/3sraamBoC+vj7vu6GhIeDffpkRhjjzsT5ErOA083HlXUVceVcRV95VxJV3FU4r/x8HuzIrYrupdQAAAABJRU5ErkJggg==\" y=\"-157.069565\"/>\r\n   </g>\r\n   <g id=\"matplotlib.axis_21\"/>\r\n   <g id=\"matplotlib.axis_22\"/>\r\n   <g id=\"patch_53\">\r\n    <path d=\"M 10.7 220.069565 \r\nL 10.7 157.46087 \r\n\" style=\"fill:none;stroke:#000000;stroke-linecap:square;stroke-linejoin:miter;stroke-width:0.8;\"/>\r\n   </g>\r\n   <g id=\"patch_54\">\r\n    <path d=\"M 73.308696 220.069565 \r\nL 73.308696 157.46087 \r\n\" style=\"fill:none;stroke:#000000;stroke-linecap:square;stroke-linejoin:miter;stroke-width:0.8;\"/>\r\n   </g>\r\n   <g id=\"patch_55\">\r\n    <path d=\"M 10.7 220.069565 \r\nL 73.308696 220.069565 \r\n\" style=\"fill:none;stroke:#000000;stroke-linecap:square;stroke-linejoin:miter;stroke-width:0.8;\"/>\r\n   </g>\r\n   <g id=\"patch_56\">\r\n    <path d=\"M 10.7 157.46087 \r\nL 73.308696 157.46087 \r\n\" style=\"fill:none;stroke:#000000;stroke-linecap:square;stroke-linejoin:miter;stroke-width:0.8;\"/>\r\n   </g>\r\n  </g>\r\n  <g id=\"axes_12\">\r\n   <g id=\"patch_57\">\r\n    <path d=\"M 100.07931 220.069565 \r\nL 162.688006 220.069565 \r\nL 162.688006 157.46087 \r\nL 100.07931 157.46087 \r\nz\r\n\" style=\"fill:#ffffff;\"/>\r\n   </g>\r\n   <g clip-path=\"url(#pae36a0f45d)\">\r\n    <image height=\"63\" id=\"imagecb06c95f5c\" transform=\"scale(1 -1)translate(0 -63)\" width=\"63\" x=\"100.07931\" xlink:href=\"data:image/png;base64,\r\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\" y=\"-157.069565\"/>\r\n   </g>\r\n   <g id=\"matplotlib.axis_23\"/>\r\n   <g id=\"matplotlib.axis_24\"/>\r\n   <g id=\"patch_58\">\r\n    <path d=\"M 100.07931 220.069565 \r\nL 100.07931 157.46087 \r\n\" style=\"fill:none;stroke:#000000;stroke-linecap:square;stroke-linejoin:miter;stroke-width:0.8;\"/>\r\n   </g>\r\n   <g id=\"patch_59\">\r\n    <path d=\"M 162.688006 220.069565 \r\nL 162.688006 157.46087 \r\n\" style=\"fill:none;stroke:#000000;stroke-linecap:square;stroke-linejoin:miter;stroke-width:0.8;\"/>\r\n   </g>\r\n   <g id=\"patch_60\">\r\n    <path d=\"M 100.07931 220.069565 \r\nL 162.688006 220.069565 \r\n\" style=\"fill:none;stroke:#000000;stroke-linecap:square;stroke-linejoin:miter;stroke-width:0.8;\"/>\r\n   </g>\r\n   <g id=\"patch_61\">\r\n    <path d=\"M 100.07931 157.46087 \r\nL 162.688006 157.46087 \r\n\" style=\"fill:none;stroke:#000000;stroke-linecap:square;stroke-linejoin:miter;stroke-width:0.8;\"/>\r\n   </g>\r\n  </g>\r\n  <g id=\"axes_13\">\r\n   <g id=\"patch_62\">\r\n    <path d=\"M 189.458621 220.069565 \r\nL 252.067316 220.069565 \r\nL 252.067316 157.46087 \r\nL 189.458621 157.46087 \r\nz\r\n\" style=\"fill:#ffffff;\"/>\r\n   </g>\r\n   <g clip-path=\"url(#p1d4f6e9fc8)\">\r\n    <image height=\"63\" id=\"image0222299e74\" transform=\"scale(1 -1)translate(0 -63)\" width=\"63\" x=\"189.458621\" xlink:href=\"data:image/png;base64,\r\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\" y=\"-157.069565\"/>\r\n   </g>\r\n   <g id=\"matplotlib.axis_25\"/>\r\n   <g id=\"matplotlib.axis_26\"/>\r\n   <g id=\"patch_63\">\r\n    <path d=\"M 189.458621 220.069565 \r\nL 189.458621 157.46087 \r\n\" style=\"fill:none;stroke:#000000;stroke-linecap:square;stroke-linejoin:miter;stroke-width:0.8;\"/>\r\n   </g>\r\n   <g id=\"patch_64\">\r\n    <path d=\"M 252.067316 220.069565 \r\nL 252.067316 157.46087 \r\n\" style=\"fill:none;stroke:#000000;stroke-linecap:square;stroke-linejoin:miter;stroke-width:0.8;\"/>\r\n   </g>\r\n   <g id=\"patch_65\">\r\n    <path d=\"M 189.458621 220.069565 \r\nL 252.067316 220.069565 \r\n\" style=\"fill:none;stroke:#000000;stroke-linecap:square;stroke-linejoin:miter;stroke-width:0.8;\"/>\r\n   </g>\r\n   <g id=\"patch_66\">\r\n    <path d=\"M 189.458621 157.46087 \r\nL 252.067316 157.46087 \r\n\" style=\"fill:none;stroke:#000000;stroke-linecap:square;stroke-linejoin:miter;stroke-width:0.8;\"/>\r\n   </g>\r\n  </g>\r\n  <g id=\"axes_14\">\r\n   <g id=\"patch_67\">\r\n    <path d=\"M 278.837931 220.069565 \r\nL 341.446627 220.069565 \r\nL 341.446627 157.46087 \r\nL 278.837931 157.46087 \r\nz\r\n\" style=\"fill:#ffffff;\"/>\r\n   </g>\r\n   <g clip-path=\"url(#pf56527eee8)\">\r\n    <image height=\"63\" id=\"image269c7cc6f7\" transform=\"scale(1 -1)translate(0 -63)\" width=\"63\" x=\"278.837931\" xlink:href=\"data:image/png;base64,\r\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\" y=\"-157.069565\"/>\r\n   </g>\r\n   <g id=\"matplotlib.axis_27\"/>\r\n   <g id=\"matplotlib.axis_28\"/>\r\n   <g id=\"patch_68\">\r\n    <path d=\"M 278.837931 220.069565 \r\nL 278.837931 157.46087 \r\n\" style=\"fill:none;stroke:#000000;stroke-linecap:square;stroke-linejoin:miter;stroke-width:0.8;\"/>\r\n   </g>\r\n   <g id=\"patch_69\">\r\n    <path d=\"M 341.446627 220.069565 \r\nL 341.446627 157.46087 \r\n\" style=\"fill:none;stroke:#000000;stroke-linecap:square;stroke-linejoin:miter;stroke-width:0.8;\"/>\r\n   </g>\r\n   <g id=\"patch_70\">\r\n    <path d=\"M 278.837931 220.069565 \r\nL 341.446627 220.069565 \r\n\" style=\"fill:none;stroke:#000000;stroke-linecap:square;stroke-linejoin:miter;stroke-width:0.8;\"/>\r\n   </g>\r\n   <g id=\"patch_71\">\r\n    <path d=\"M 278.837931 157.46087 \r\nL 341.446627 157.46087 \r\n\" style=\"fill:none;stroke:#000000;stroke-linecap:square;stroke-linejoin:miter;stroke-width:0.8;\"/>\r\n   </g>\r\n  </g>\r\n  <g id=\"axes_15\">\r\n   <g id=\"patch_72\">\r\n    <path d=\"M 368.217241 220.069565 \r\nL 430.825937 220.069565 \r\nL 430.825937 157.46087 \r\nL 368.217241 157.46087 \r\nz\r\n\" style=\"fill:#ffffff;\"/>\r\n   </g>\r\n   <g clip-path=\"url(#p90da1b7c89)\">\r\n    <image height=\"63\" id=\"image91f6b84b8e\" transform=\"scale(1 -1)translate(0 -63)\" width=\"63\" x=\"368.217241\" xlink:href=\"data:image/png;base64,\r\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\" y=\"-157.069565\"/>\r\n   </g>\r\n   <g id=\"matplotlib.axis_29\"/>\r\n   <g id=\"matplotlib.axis_30\"/>\r\n   <g id=\"patch_73\">\r\n    <path d=\"M 368.217241 220.069565 \r\nL 368.217241 157.46087 \r\n\" style=\"fill:none;stroke:#000000;stroke-linecap:square;stroke-linejoin:miter;stroke-width:0.8;\"/>\r\n   </g>\r\n   <g id=\"patch_74\">\r\n    <path d=\"M 430.825937 220.069565 \r\nL 430.825937 157.46087 \r\n\" style=\"fill:none;stroke:#000000;stroke-linecap:square;stroke-linejoin:miter;stroke-width:0.8;\"/>\r\n   </g>\r\n   <g id=\"patch_75\">\r\n    <path d=\"M 368.217241 220.069565 \r\nL 430.825937 220.069565 \r\n\" style=\"fill:none;stroke:#000000;stroke-linecap:square;stroke-linejoin:miter;stroke-width:0.8;\"/>\r\n   </g>\r\n   <g id=\"patch_76\">\r\n    <path d=\"M 368.217241 157.46087 \r\nL 430.825937 157.46087 \r\n\" style=\"fill:none;stroke:#000000;stroke-linecap:square;stroke-linejoin:miter;stroke-width:0.8;\"/>\r\n   </g>\r\n  </g>\r\n  <g id=\"axes_16\">\r\n   <g id=\"patch_77\">\r\n    <path d=\"M 10.7 295.2 \r\nL 73.308696 295.2 \r\nL 73.308696 232.591304 \r\nL 10.7 232.591304 \r\nz\r\n\" style=\"fill:#ffffff;\"/>\r\n   </g>\r\n   <g clip-path=\"url(#p0b6bf37178)\">\r\n    <image height=\"63\" id=\"image6ed4c13ae7\" transform=\"scale(1 -1)translate(0 -63)\" width=\"63\" x=\"10.7\" xlink:href=\"data:image/png;base64,\r\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\" y=\"-232.2\"/>\r\n   </g>\r\n   <g id=\"matplotlib.axis_31\"/>\r\n   <g id=\"matplotlib.axis_32\"/>\r\n   <g id=\"patch_78\">\r\n    <path d=\"M 10.7 295.2 \r\nL 10.7 232.591304 \r\n\" style=\"fill:none;stroke:#000000;stroke-linecap:square;stroke-linejoin:miter;stroke-width:0.8;\"/>\r\n   </g>\r\n   <g id=\"patch_79\">\r\n    <path d=\"M 73.308696 295.2 \r\nL 73.308696 232.591304 \r\n\" style=\"fill:none;stroke:#000000;stroke-linecap:square;stroke-linejoin:miter;stroke-width:0.8;\"/>\r\n   </g>\r\n   <g id=\"patch_80\">\r\n    <path d=\"M 10.7 295.2 \r\nL 73.308696 295.2 \r\n\" style=\"fill:none;stroke:#000000;stroke-linecap:square;stroke-linejoin:miter;stroke-width:0.8;\"/>\r\n   </g>\r\n   <g id=\"patch_81\">\r\n    <path d=\"M 10.7 232.591304 \r\nL 73.308696 232.591304 \r\n\" style=\"fill:none;stroke:#000000;stroke-linecap:square;stroke-linejoin:miter;stroke-width:0.8;\"/>\r\n   </g>\r\n  </g>\r\n  <g id=\"axes_17\">\r\n   <g id=\"patch_82\">\r\n    <path d=\"M 100.07931 295.2 \r\nL 162.688006 295.2 \r\nL 162.688006 232.591304 \r\nL 100.07931 232.591304 \r\nz\r\n\" style=\"fill:#ffffff;\"/>\r\n   </g>\r\n   <g clip-path=\"url(#p4d4cf341be)\">\r\n    <image height=\"63\" id=\"image2a93b5deb6\" transform=\"scale(1 -1)translate(0 -63)\" width=\"63\" x=\"100.07931\" xlink:href=\"data:image/png;base64,\r\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\" y=\"-232.2\"/>\r\n   </g>\r\n   <g id=\"matplotlib.axis_33\"/>\r\n   <g id=\"matplotlib.axis_34\"/>\r\n   <g id=\"patch_83\">\r\n    <path d=\"M 100.07931 295.2 \r\nL 100.07931 232.591304 \r\n\" style=\"fill:none;stroke:#000000;stroke-linecap:square;stroke-linejoin:miter;stroke-width:0.8;\"/>\r\n   </g>\r\n   <g id=\"patch_84\">\r\n    <path d=\"M 162.688006 295.2 \r\nL 162.688006 232.591304 \r\n\" style=\"fill:none;stroke:#000000;stroke-linecap:square;stroke-linejoin:miter;stroke-width:0.8;\"/>\r\n   </g>\r\n   <g id=\"patch_85\">\r\n    <path d=\"M 100.07931 295.2 \r\nL 162.688006 295.2 \r\n\" style=\"fill:none;stroke:#000000;stroke-linecap:square;stroke-linejoin:miter;stroke-width:0.8;\"/>\r\n   </g>\r\n   <g id=\"patch_86\">\r\n    <path d=\"M 100.07931 232.591304 \r\nL 162.688006 232.591304 \r\n\" style=\"fill:none;stroke:#000000;stroke-linecap:square;stroke-linejoin:miter;stroke-width:0.8;\"/>\r\n   </g>\r\n  </g>\r\n  <g id=\"axes_18\">\r\n   <g id=\"patch_87\">\r\n    <path d=\"M 189.458621 295.2 \r\nL 252.067316 295.2 \r\nL 252.067316 232.591304 \r\nL 189.458621 232.591304 \r\nz\r\n\" style=\"fill:#ffffff;\"/>\r\n   </g>\r\n   <g clip-path=\"url(#p814abed532)\">\r\n    <image height=\"63\" id=\"imaged32d840d6c\" transform=\"scale(1 -1)translate(0 -63)\" width=\"63\" x=\"189.458621\" xlink:href=\"data:image/png;base64,\r\niVBORw0KGgoAAAANSUhEUgAAAD8AAAA/CAYAAABXXxDfAAAFIElEQVR4nO2aO0xUTRiGn+UmICASbkpDgSgJlxpCY+gobA10dLSWNLQkaKAnNDYkCA2VgUQbEkwIJBCChQZCQiISWG4qyG35i/3fmTlnj4iGX/8w+za7e+Y7M/PNd3tnZmMXFxcXeIqMvz2Bv4m08r4irbyvSCvvK7xWPusqQolEAgDxocPDQ9P2/fv3gIwQi8VS+tGzjIyMQH/u9/Pz88A7knVlwmO5/ZydnQXasrOzAcjNzTXP7t69m+w7ZYYeISZ6qxXb3983jbLw8fExYK3irrQsI6vqMyvLOlXY4lHIzMwMyEYhPNaPPCFK1pUpKChIyvxwJA/gtfKxeDx+AXB0dAQE3UNufuvWrcCnkghAYWHhtUwkvLmMcn+FptoUKu6c9T0cCu6cl5eXAc8tn6VVzMnJAYJJqbi4GLArLLjlZGtrC4B4PB747SZOtcm6+nStofEFzSsvLy9lXM1R5aukpMTI5OfnA9ZL79+/nzLWwcFBsh88hqlHZWVlKY2y3sLCAgBzc3MArK+vGxmtosjO6ekpEFxpxd/JyQkA3759A4JxrTbJKt+4/YicSEZjFRUVGRnN4+PHjwDU19cDsL29bWRevHgB+G55raasOTIyYhpFchTHitXy8nIjc+/ePcBacWVlBbCx57aJXIg0ydpgLSZypLh2s7Yqi7xNsm7Mqx/NXXpJT4CmpqbkGKnr4Q+8Vt4kPLlFc3Ozafz69StgE4uShlwbYH5+HoDW1lYAHjx4AMDOzk5KP3JXhY/r9goNJbqofUSY1Oid3d1dI6PQUmiqhLpJWuN6bflYIpG4gMt3U5fh5cuXgCUytbW1gC2PAHfu3AEcWvlvMnOJjUqaElbUPlwlTZ6k9/WO+57G2NzcBGByctLIvHnzJinza6reLJj9fNRJSnj/LZkw3QUYGxsDYGZmBoD379+btu7ubsCWTMm4lr99+zZg84toqZtfSktLAVvy1J/rHaLD0kP9zs7OGpnx8fGkfilaeIRY+KIy6lwtfEpzGZR53717Z559+vQJgKmpKQDq6uqAoMWWlpYAS5pEgV3vq6mpAWzVUfWQdcF6hWJfFF1bdoDBwcFk3z/V5gbDa+Wzfse1o6B+RJba29tNW1tbG2CJx6NHjwCbwMCSk42NDSB1Xw6wuroKwNraGmCTmruP0BgKKe1W3X4Ery1/KckJe8VlCB8jR5VDJZ/nz58DQQqshCevkOVcAiOSU1VVBdgE2NjYaGRkec1DHrW4uGhkVE79tvyf/E+OVlwWE+0F+PDhAwD9/f0APHz4EIDR0VEjMzw8DKSSL/f6TOrozEAlzz3JUV7x2vJXuqi8Cq5y7i4rTE9PA/Dq1SvT1tnZCVhaK2I0NDRkZD5//gxAZWVl4HfUPESddeKr2AdoaWkBPLe818pfm9v/ys2pSImOlwHevn0L2OTV09MDQHV1tZHp6+sDbKmU+7slU+NrLLm9kq37LG3560TYA9xnwpcvX4DguZpIiC4Unj17BsDAwICR6e3tBWBiYgKAp0+fAkF6654Lgk2y7uWHOR7/Bb1uHK7d8uGYc58JoqBPnjwxz0R9dWnS0dEBBE9mtX9//fo1YD2oq6vLyCi2RY9V8qJKr9eW/8/obVS34dXXGRzYzK/ztYqKCsDeC4DdLD1+/BiwZEWXkVedj/mP0E/fusHwWvk/sqsLnwuIALlJcW9vD7Dlr6Gh4VrGFNIJL4Q/up//v8Fry6eV9xVp5X1FWnlfkVbeV3it/D++nHpX5PTmzAAAAABJRU5ErkJggg==\" y=\"-232.2\"/>\r\n   </g>\r\n   <g id=\"matplotlib.axis_35\"/>\r\n   <g id=\"matplotlib.axis_36\"/>\r\n   <g id=\"patch_88\">\r\n    <path d=\"M 189.458621 295.2 \r\nL 189.458621 232.591304 \r\n\" style=\"fill:none;stroke:#000000;stroke-linecap:square;stroke-linejoin:miter;stroke-width:0.8;\"/>\r\n   </g>\r\n   <g id=\"patch_89\">\r\n    <path d=\"M 252.067316 295.2 \r\nL 252.067316 232.591304 \r\n\" style=\"fill:none;stroke:#000000;stroke-linecap:square;stroke-linejoin:miter;stroke-width:0.8;\"/>\r\n   </g>\r\n   <g id=\"patch_90\">\r\n    <path d=\"M 189.458621 295.2 \r\nL 252.067316 295.2 \r\n\" style=\"fill:none;stroke:#000000;stroke-linecap:square;stroke-linejoin:miter;stroke-width:0.8;\"/>\r\n   </g>\r\n   <g id=\"patch_91\">\r\n    <path d=\"M 189.458621 232.591304 \r\nL 252.067316 232.591304 \r\n\" style=\"fill:none;stroke:#000000;stroke-linecap:square;stroke-linejoin:miter;stroke-width:0.8;\"/>\r\n   </g>\r\n  </g>\r\n  <g id=\"axes_19\">\r\n   <g id=\"patch_92\">\r\n    <path d=\"M 278.837931 295.2 \r\nL 341.446627 295.2 \r\nL 341.446627 232.591304 \r\nL 278.837931 232.591304 \r\nz\r\n\" style=\"fill:#ffffff;\"/>\r\n   </g>\r\n   <g clip-path=\"url(#p82b7560d1e)\">\r\n    <image height=\"63\" id=\"image29a40d0cd2\" transform=\"scale(1 -1)translate(0 -63)\" width=\"63\" x=\"278.837931\" xlink:href=\"data:image/png;base64,\r\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\" y=\"-232.2\"/>\r\n   </g>\r\n   <g id=\"matplotlib.axis_37\"/>\r\n   <g id=\"matplotlib.axis_38\"/>\r\n   <g id=\"patch_93\">\r\n    <path d=\"M 278.837931 295.2 \r\nL 278.837931 232.591304 \r\n\" style=\"fill:none;stroke:#000000;stroke-linecap:square;stroke-linejoin:miter;stroke-width:0.8;\"/>\r\n   </g>\r\n   <g id=\"patch_94\">\r\n    <path d=\"M 341.446627 295.2 \r\nL 341.446627 232.591304 \r\n\" style=\"fill:none;stroke:#000000;stroke-linecap:square;stroke-linejoin:miter;stroke-width:0.8;\"/>\r\n   </g>\r\n   <g id=\"patch_95\">\r\n    <path d=\"M 278.837931 295.2 \r\nL 341.446627 295.2 \r\n\" style=\"fill:none;stroke:#000000;stroke-linecap:square;stroke-linejoin:miter;stroke-width:0.8;\"/>\r\n   </g>\r\n   <g id=\"patch_96\">\r\n    <path d=\"M 278.837931 232.591304 \r\nL 341.446627 232.591304 \r\n\" style=\"fill:none;stroke:#000000;stroke-linecap:square;stroke-linejoin:miter;stroke-width:0.8;\"/>\r\n   </g>\r\n  </g>\r\n  <g id=\"axes_20\">\r\n   <g id=\"patch_97\">\r\n    <path d=\"M 368.217241 295.2 \r\nL 430.825937 295.2 \r\nL 430.825937 232.591304 \r\nL 368.217241 232.591304 \r\nz\r\n\" style=\"fill:#ffffff;\"/>\r\n   </g>\r\n   <g clip-path=\"url(#p7d035b47b1)\">\r\n    <image height=\"63\" id=\"image6be4469901\" transform=\"scale(1 -1)translate(0 -63)\" width=\"63\" x=\"368.217241\" xlink:href=\"data:image/png;base64,\r\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\" y=\"-232.2\"/>\r\n   </g>\r\n   <g id=\"matplotlib.axis_39\"/>\r\n   <g id=\"matplotlib.axis_40\"/>\r\n   <g id=\"patch_98\">\r\n    <path d=\"M 368.217241 295.2 \r\nL 368.217241 232.591304 \r\n\" style=\"fill:none;stroke:#000000;stroke-linecap:square;stroke-linejoin:miter;stroke-width:0.8;\"/>\r\n   </g>\r\n   <g id=\"patch_99\">\r\n    <path d=\"M 430.825937 295.2 \r\nL 430.825937 232.591304 \r\n\" style=\"fill:none;stroke:#000000;stroke-linecap:square;stroke-linejoin:miter;stroke-width:0.8;\"/>\r\n   </g>\r\n   <g id=\"patch_100\">\r\n    <path d=\"M 368.217241 295.2 \r\nL 430.825937 295.2 \r\n\" style=\"fill:none;stroke:#000000;stroke-linecap:square;stroke-linejoin:miter;stroke-width:0.8;\"/>\r\n   </g>\r\n   <g id=\"patch_101\">\r\n    <path d=\"M 368.217241 232.591304 \r\nL 430.825937 232.591304 \r\n\" style=\"fill:none;stroke:#000000;stroke-linecap:square;stroke-linejoin:miter;stroke-width:0.8;\"/>\r\n   </g>\r\n  </g>\r\n </g>\r\n <defs>\r\n  <clipPath id=\"p272a38006d\">\r\n   <rect height=\"62.608696\" width=\"62.608696\" x=\"10.7\" y=\"7.2\"/>\r\n  </clipPath>\r\n  <clipPath id=\"p6dae41d433\">\r\n   <rect height=\"62.608696\" width=\"62.608696\" x=\"100.07931\" y=\"7.2\"/>\r\n  </clipPath>\r\n  <clipPath id=\"p23bb2a1bb3\">\r\n   <rect height=\"62.608696\" width=\"62.608696\" x=\"189.458621\" y=\"7.2\"/>\r\n  </clipPath>\r\n  <clipPath id=\"pb7b42f70e6\">\r\n   <rect height=\"62.608696\" width=\"62.608696\" x=\"278.837931\" y=\"7.2\"/>\r\n  </clipPath>\r\n  <clipPath id=\"p5ad5e741cb\">\r\n   <rect height=\"62.608696\" width=\"62.608696\" x=\"368.217241\" y=\"7.2\"/>\r\n  </clipPath>\r\n  <clipPath id=\"p0353b135bd\">\r\n   <rect height=\"62.608696\" width=\"62.608696\" x=\"10.7\" y=\"82.330435\"/>\r\n  </clipPath>\r\n  <clipPath id=\"p08b5f0caca\">\r\n   <rect height=\"62.608696\" width=\"62.608696\" x=\"100.07931\" y=\"82.330435\"/>\r\n  </clipPath>\r\n  <clipPath id=\"pe276508590\">\r\n   <rect height=\"62.608696\" width=\"62.608696\" x=\"189.458621\" y=\"82.330435\"/>\r\n  </clipPath>\r\n  <clipPath id=\"p652ebc885d\">\r\n   <rect height=\"62.608696\" width=\"62.608696\" x=\"278.837931\" y=\"82.330435\"/>\r\n  </clipPath>\r\n  <clipPath id=\"p0722537643\">\r\n   <rect height=\"62.608696\" width=\"62.608696\" x=\"368.217241\" y=\"82.330435\"/>\r\n  </clipPath>\r\n  <clipPath id=\"p4e432d2e86\">\r\n   <rect height=\"62.608696\" width=\"62.608696\" x=\"10.7\" y=\"157.46087\"/>\r\n  </clipPath>\r\n  <clipPath id=\"pae36a0f45d\">\r\n   <rect height=\"62.608696\" width=\"62.608696\" x=\"100.07931\" y=\"157.46087\"/>\r\n  </clipPath>\r\n  <clipPath id=\"p1d4f6e9fc8\">\r\n   <rect height=\"62.608696\" width=\"62.608696\" x=\"189.458621\" y=\"157.46087\"/>\r\n  </clipPath>\r\n  <clipPath id=\"pf56527eee8\">\r\n   <rect height=\"62.608696\" width=\"62.608696\" x=\"278.837931\" y=\"157.46087\"/>\r\n  </clipPath>\r\n  <clipPath id=\"p90da1b7c89\">\r\n   <rect height=\"62.608696\" width=\"62.608696\" x=\"368.217241\" y=\"157.46087\"/>\r\n  </clipPath>\r\n  <clipPath id=\"p0b6bf37178\">\r\n   <rect height=\"62.608696\" width=\"62.608696\" x=\"10.7\" y=\"232.591304\"/>\r\n  </clipPath>\r\n  <clipPath id=\"p4d4cf341be\">\r\n   <rect height=\"62.608696\" width=\"62.608696\" x=\"100.07931\" y=\"232.591304\"/>\r\n  </clipPath>\r\n  <clipPath id=\"p814abed532\">\r\n   <rect height=\"62.608696\" width=\"62.608696\" x=\"189.458621\" y=\"232.591304\"/>\r\n  </clipPath>\r\n  <clipPath id=\"p82b7560d1e\">\r\n   <rect height=\"62.608696\" width=\"62.608696\" x=\"278.837931\" y=\"232.591304\"/>\r\n  </clipPath>\r\n  <clipPath id=\"p7d035b47b1\">\r\n   <rect height=\"62.608696\" width=\"62.608696\" x=\"368.217241\" y=\"232.591304\"/>\r\n  </clipPath>\r\n </defs>\r\n</svg>\r\n",
      "image/png": "[encoded data removed]"
     },
     "metadata": {}
    }
   ],
   "source": [
    "# misclassified_mnist.py \n",
    "# 이번 장에서 구현한 신경망이 인식에 실패한 손글씨 이미지들을 화면에 보여줍니다.\n",
    "# coding: utf-8\n",
    "import sys, os\n",
    "sys.path.append(os.pardir)  # 부모 디렉터리의 파일을 가져올 수 있도록 설정\n",
    "import numpy as np\n",
    "import matplotlib.pyplot as plt\n",
    "from deep_convnet import DeepConvNet\n",
    "from dataset.mnist import load_mnist\n",
    "\n",
    "\n",
    "(x_train, t_train), (x_test, t_test) = load_mnist(flatten=False)\n",
    "\n",
    "network = DeepConvNet()\n",
    "network.load_params(\"deep_convnet_params.pkl\")\n",
    "\n",
    "print(\"calculating test accuracy ... \")\n",
    "sampled = 1000\n",
    "x_test = x_test[:sampled]\n",
    "t_test = t_test[:sampled]\n",
    "\n",
    "classified_ids = []\n",
    "\n",
    "acc = 0.0\n",
    "batch_size = 100\n",
    "\n",
    "for i in range(int(x_test.shape[0] / batch_size)):\n",
    "    tx = x_test[i*batch_size:(i+1)*batch_size]\n",
    "    tt = t_test[i*batch_size:(i+1)*batch_size]\n",
    "    y = network.predict(tx, train_flg=False)\n",
    "    y = np.argmax(y, axis=1)\n",
    "    classified_ids.append(y)\n",
    "    acc += np.sum(y == tt)\n",
    "    \n",
    "acc = acc / x_test.shape[0]\n",
    "print(\"test accuracy:\" + str(acc))\n",
    "\n",
    "classified_ids = np.array(classified_ids)\n",
    "classified_ids = classified_ids.flatten()\n",
    " \n",
    "max_view = 20\n",
    "current_view = 1\n",
    "\n",
    "fig = plt.figure()\n",
    "fig.subplots_adjust(left=0, right=1, bottom=0, top=1, hspace=0.2, wspace=0.2)\n",
    "\n",
    "mis_pairs = {}\n",
    "for i, val in enumerate(classified_ids == t_test):\n",
    "    if not val:\n",
    "        ax = fig.add_subplot(4, 5, current_view, xticks=[], yticks=[])\n",
    "        ax.imshow(x_test[i].reshape(28, 28), cmap=plt.cm.gray_r, interpolation='nearest')\n",
    "        mis_pairs[current_view] = (t_test[i], classified_ids[i])\n",
    "            \n",
    "        current_view += 1\n",
    "        if current_view > max_view:\n",
    "            break\n",
    "\n",
    "print(\"======= misclassified result =======\")\n",
    "print(\"{view index: (label, inference), ...}\")\n",
    "print(mis_pairs)\n",
    "\n",
    "plt.show()"
   ]
  },
  {
   "cell_type": "markdown",
   "metadata": {},
   "source": [
    "<img src=\"images/fig 8-2.png\">인식하지 못한(misclassified) 이미지들</img>"
   ]
  },
  {
   "cell_type": "markdown",
   "metadata": {},
   "source": [
    "### 8.1.2 정확도를 더 높이려면 \n",
    "\n",
    "<img src=\"images/fig 8-3.png\">MNIST rankings</img>\n",
    "\n",
    "<img src=\"images/fig 8-4.png\">Data augmentation</img>"
   ]
  },
  {
   "cell_type": "markdown",
   "metadata": {},
   "source": [
    "### 8.1.3 깊게 하는 이유 \n",
    "\n",
    "<img src=\"images/fig 8-5.png\">5x5 convolution</img>\n",
    "\n",
    "<img src=\"images/fig 8-6.png\">Multiple 3x3 convoltions</img>"
   ]
  },
  {
   "cell_type": "markdown",
   "metadata": {},
   "source": [
    "## 8.2 딥러닝의 초기 역사 \n",
    "### 8.2.1 이미지넷 \n",
    "<img src=\"images/fig 8-7.png\">ImageNet samples</img>\n",
    "\n",
    "<img src=\"images/fig 8-8.png\">ILSVRC rankings</img>"
   ]
  },
  {
   "cell_type": "markdown",
   "metadata": {},
   "source": [
    "### 8.2.2 VGG \n",
    "<img src=\"images/fig 8-9.png\">VGGNet</img>"
   ]
  },
  {
   "cell_type": "markdown",
   "metadata": {},
   "source": [
    "### 8.2.3 GoogLeNet \n",
    "<img src=\"images/fig 8-10.png\">GoogLeNet</img>\n",
    "\n",
    "<img src=\"images/fig 8-11.png\">Inception module in GoogLeNet</img>"
   ]
  },
  {
   "cell_type": "markdown",
   "metadata": {},
   "source": [
    "### 8.2.4 ResNet \n",
    "<img src=\"images/fig 8-12.png\">ResNet module</img>\n",
    "\n",
    "<img src=\"images/fig 8-13.png\">RegNet</img>"
   ]
  },
  {
   "cell_type": "markdown",
   "metadata": {},
   "source": [
    "## 8.3 더 빠르게(딥러닝 고속화) \n",
    "### 8.3.1 풀어야 할 숙제 \n",
    "<img src=\"images/fig 8-14.png\">AlextNet forward 처리시 각 층의 시간비율</img>"
   ]
  },
  {
   "cell_type": "markdown",
   "metadata": {},
   "source": [
    "### 8.3.2 GPU를 활용한 고속화 \n",
    "<img src=\"images/fig 8-15.png\">AlexNet 시간비교</img>"
   ]
  },
  {
   "cell_type": "markdown",
   "metadata": {},
   "source": [
    "### 8.3.3 분산 학습 \n",
    "<img src=\"images/fig 8-16.png\">완전연결 계층(Affine 계층)으로 이루어진 네트워크의 예</img>"
   ]
  },
  {
   "cell_type": "markdown",
   "metadata": {},
   "source": [
    "### 8.3.4 연산 정밀도와 비트 줄이기 "
   ]
  },
  {
   "cell_type": "code",
   "execution_count": 7,
   "metadata": {},
   "outputs": [
    {
     "output_type": "stream",
     "name": "stdout",
     "text": [
      "caluculate accuracy (float64) ... \n",
      "0.851\n",
      "caluculate accuracy (float16) ... \n",
      "0.851\n"
     ]
    }
   ],
   "source": [
    "# half_float_network.py \n",
    "# 수치 정밀도를 반정밀도(16비트)로 낮춰 계산하여 배정밀도(64비트)일 때와 정확도를 비교해본다.\n",
    "# coding: utf-8\n",
    "import sys, os\n",
    "sys.path.append(os.pardir)  # 부모 디렉터리의 파일을 가져올 수 있도록 설정\n",
    "import numpy as np\n",
    "import matplotlib.pyplot as plt\n",
    "from deep_convnet import DeepConvNet\n",
    "from dataset.mnist import load_mnist\n",
    "\n",
    "\n",
    "(x_train, t_train), (x_test, t_test) = load_mnist(flatten=False)\n",
    "\n",
    "network = DeepConvNet()\n",
    "network.load_params(\"deep_convnet_params.pkl\")\n",
    "\n",
    "sampled = 10000 # 고속화를 위한 표본추출\n",
    "x_test = x_test[:sampled]\n",
    "t_test = t_test[:sampled]\n",
    "\n",
    "print(\"caluculate accuracy (float64) ... \")\n",
    "print(network.accuracy(x_test, t_test))\n",
    "\n",
    "# float16(반정밀도)로 형변환\n",
    "x_test = x_test.astype(np.float16)\n",
    "for param in network.params.values():\n",
    "    param[...] = param.astype(np.float16)\n",
    "\n",
    "print(\"caluculate accuracy (float16) ... \")\n",
    "print(network.accuracy(x_test, t_test)) "
   ]
  },
  {
   "cell_type": "markdown",
   "metadata": {},
   "source": [
    "## 8.4 딥러닝의 활용 \n",
    "### 8.4.1 사물 검출 \n",
    "<img src=\"images/fig 8-17.png\">사물 검출의 예시</img>\n",
    "\n",
    "<img src=\"images/fig 8-18.png\">R-CNN</img>"
   ]
  },
  {
   "cell_type": "markdown",
   "metadata": {},
   "source": [
    "### 8.4.2 분할 \n",
    "<img src=\"images/fig 8-19.png\">Segmentation</img>\n",
    "\n",
    "<img src=\"images/fig 8-20.png\">FCN</img>"
   ]
  },
  {
   "cell_type": "markdown",
   "metadata": {},
   "source": [
    "### 8.4.3 사진 캡션 생성 \n",
    "<img src=\"images/fig 8-21.png\">Image Captioning</img>\n",
    "\n",
    "<img src=\"images/fig 8-22.png\">NIC</img>"
   ]
  },
  {
   "cell_type": "markdown",
   "metadata": {},
   "source": [
    "## 8.5 딥러닝의 미래 \n",
    "### 8.5.1 이미지 스타일(화풍) 변환 \n",
    "<img src=\"images/fig 8-23.png\">A Neural Algorithm of Artistic Style</img>"
   ]
  },
  {
   "cell_type": "markdown",
   "metadata": {},
   "source": [
    "### 8.5.2 이미지 생성 \n",
    "<img src=\"images/fig 8-24.png\">DCGAN</img>"
   ]
  },
  {
   "cell_type": "markdown",
   "metadata": {},
   "source": [
    "### 8.5.3 자율 주행 \n",
    "<img src=\"images/fig 8-25.png\">딥러닝을 활용한 이미지 분할의 예</img>"
   ]
  },
  {
   "cell_type": "markdown",
   "metadata": {},
   "source": [
    "### 8.5.4 Deep Q-Network(강화학습) \n",
    "<img src=\"images/fig 8-26.png\">강화학습의 기본 틀</img>\n",
    "\n",
    "<img src=\"images/fig 8-27.png\">Deep Q-Network</img>"
   ]
  },
  {
   "cell_type": "markdown",
   "metadata": {},
   "source": [
    "## 이번 장에서 배운 내용\n",
    "* 수많은 문제에서 신경망을 더 깊게 하여 성능을 개선할 수 있다.\n",
    "* 이미지 인식 기술 대회인 ILSVRC에서는 최근 딥러닝 기반 기법이 상위권을 독점하고 있으며, 그 깊이도 더 깊어지는 추세다.\n",
    "* 유명한 신경망으로는 VGG, GoogLeNet, ResNet이 있다.\n",
    "* GPU와 분산 학습, 비트 정밀도 감소 등으로 딥러닝을 고속화할 수 있다.\n",
    "* 딥러닝(신경망)은 사물 인식뿐 아니라 사물 검출과 분할에도 이용할 수 있다.\n",
    "* 딥러닝의 응용 분야로는 사진의 캡션 생성, 이미지 생성, 강화학습 등이 있다. 최근에는 자율 주행에도 딥러닝을 접목하고 있어 기대된다."
   ]
  },
  {
   "cell_type": "markdown",
   "metadata": {},
   "source": [
    "## 8.1 더 깊게 \n",
    "### 8.1.1 더 깊은 네트워크로 \n",
    "\n",
    "<img src=\"images/fig 8-1.png\">손글씨 심층 CNN</img>\n",
    "\n",
    "<img src=\"images/fig 8-2.png\">인식하지 못한(misclassified) 이미지들</img>\n",
    "\n",
    "### 8.1.2 정확도를 더 높이려면 \n",
    "\n",
    "<img src=\"images/fig 8-3.png\">MNIST rankings</img>\n",
    "\n",
    "<img src=\"images/fig 8-4.png\">Data augmentation</img>\n",
    "\n",
    "### 8.1.3 깊게 하는 이유 \n",
    "\n",
    "<img src=\"images/fig 8-5.png\">5x5 convolution</img>\n",
    "\n",
    "<img src=\"images/fig 8-6.png\">Multiple 3x3 convoltions</img>\n",
    "\n",
    "## 8.2 딥러닝의 초기 역사 \n",
    "### 8.2.1 이미지넷 \n",
    "<img src=\"images/fig 8-7.png\">ImageNet samples</img>\n",
    "\n",
    "<img src=\"images/fig 8-8.png\">ILSVRC rankings</img>\n",
    "\n",
    "### 8.2.2 VGG \n",
    "<img src=\"images/fig 8-9.png\">VGGNet</img>\n",
    "\n",
    "### 8.2.3 GoogLeNet \n",
    "<img src=\"images/fig 8-10.png\">GoogLeNet</img>\n",
    "\n",
    "<img src=\"images/fig 8-11.png\">Inception module in GoogLeNet</img>\n",
    "\n",
    "### 8.2.4 ResNet \n",
    "<img src=\"images/fig 8-12.png\">ResNet module</img>\n",
    "\n",
    "<img src=\"images/fig 8-13.png\">RegNet</img>\n",
    "\n",
    "## 8.3 더 빠르게(딥러닝 고속화) \n",
    "### 8.3.1 풀어야 할 숙제 \n",
    "<img src=\"images/fig 8-14.png\">AlextNet forward 처리시 각 층의 시간비율</img>\n",
    "\n",
    "### 8.3.2 GPU를 활용한 고속화 \n",
    "<img src=\"images/fig 8-15.png\">AlexNet 시간비교</img>\n",
    "\n",
    "### 8.3.3 분산 학습 \n",
    "<img src=\"images/fig 8-16.png\">완전연결 계층(Affine 계층)으로 이루어진 네트워크의 예</img>\n",
    "\n",
    "### 8.3.4 연산 정밀도와 비트 줄이기 \n",
    "\n",
    "## 8.4 딥러닝의 활용 \n",
    "### 8.4.1 사물 검출 \n",
    "<img src=\"images/fig 8-17.png\">사물 검출의 예시</img>\n",
    "\n",
    "<img src=\"images/fig 8-18.png\">R-CNN</img>\n",
    "\n",
    "### 8.4.2 분할 \n",
    "<img src=\"images/fig 8-19.png\">Segmentation</img>\n",
    "\n",
    "<img src=\"images/fig 8-20.png\">FCN</img>\n",
    "\n",
    "### 8.4.3 사진 캡션 생성 \n",
    "<img src=\"images/fig 8-21.png\">Image Captioning</img>\n",
    "\n",
    "<img src=\"images/fig 8-22.png\">NIC</img>\n",
    "\n",
    "## 8.5 딥러닝의 미래 \n",
    "### 8.5.1 이미지 스타일(화풍) 변환 \n",
    "<img src=\"images/fig 8-23.png\">A Neural Algorithm of Artistic Style</img>\n",
    "\n",
    "### 8.5.2 이미지 생성 \n",
    "<img src=\"images/fig 8-24.png\">DCGAN</img>\n",
    "\n",
    "### 8.5.3 자율 주행 \n",
    "<img src=\"images/fig 8-25.png\">딥러닝을 활용한 이미지 분할의 예</img>\n",
    "\n",
    "### 8.5.4 Deep Q-Network(강화학습) \n",
    "<img src=\"images/fig 8-26.png\">강화학습의 기본 틀</img>\n",
    "\n",
    "<img src=\"images/fig 8-27.png\">Deep Q-Network</img>"
   ]
  }
 ],
 "metadata": {
  "anaconda-cloud": {},
  "kernelspec": {
   "name": "python388jvsc74a57bd0bd981a0fb0a6bb4c4a7911b53bdee35f4408d0a25f73998a3e0a20a22928721e",
   "display_name": "Python 3.8.8 64-bit ('isd_env': conda)"
  },
  "language_info": {
   "codemirror_mode": {
    "name": "ipython",
    "version": 3
   },
   "file_extension": ".py",
   "mimetype": "text/x-python",
   "name": "python",
   "nbconvert_exporter": "python",
   "pygments_lexer": "ipython3",
   "version": "3.8.8"
  }
 },
 "nbformat": 4,
 "nbformat_minor": 1
}