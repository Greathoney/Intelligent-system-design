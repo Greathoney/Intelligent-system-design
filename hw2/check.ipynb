{
 "metadata": {
  "language_info": {
   "codemirror_mode": {
    "name": "ipython",
    "version": 3
   },
   "file_extension": ".py",
   "mimetype": "text/x-python",
   "name": "python",
   "nbconvert_exporter": "python",
   "pygments_lexer": "ipython3",
   "version": "3.8.8-final"
  },
  "orig_nbformat": 2,
  "kernelspec": {
   "name": "python3",
   "display_name": "Python 3.8.8 64-bit ('isd_env': conda)",
   "metadata": {
    "interpreter": {
     "hash": "bd981a0fb0a6bb4c4a7911b53bdee35f4408d0a25f73998a3e0a20a22928721e"
    }
   }
  }
 },
 "nbformat": 4,
 "nbformat_minor": 2,
 "cells": [
  {
   "cell_type": "code",
   "execution_count": 1,
   "metadata": {},
   "outputs": [],
   "source": [
    "import numpy as np\n",
    "\n",
    "\n",
    "class Perceptron:\n",
    "    \"\"\"\n",
    "    Perceptron neuron\n",
    "    \"\"\"\n",
    "\n",
    "    def __init__(self, learning_rate=0.1):\n",
    "        \"\"\"\n",
    "        instantiate a new Perceptron\n",
    "\n",
    "        :param learning_rate: coefficient used to tune the model\n",
    "        response to training data\n",
    "        \"\"\"\n",
    "        self.learning_rate = learning_rate\n",
    "        self._b = 0.0  # y-intercept\n",
    "        self._w = None  # weights assigned to input features\n",
    "        # count of errors during each iteration\n",
    "        self.misclassified_samples = []\n",
    "\n",
    "    def fit(self, x: np.array, y: np.array, n_iter=10):\n",
    "        \"\"\"\n",
    "        fit the Perceptron model on the training data\n",
    "\n",
    "        :param x: samples to fit the model on\n",
    "        :param y: labels of the training samples\n",
    "        :param n_iter: number of training iterations \n",
    "        \"\"\"\n",
    "        self._b = 0.0\n",
    "        self._w = np.zeros(x.shape[1])\n",
    "        self.misclassified_samples = []\n",
    "\n",
    "        for _ in range(n_iter):\n",
    "            # counter of the errors during this training iteration\n",
    "            errors = 0\n",
    "            for xi, yi in zip(x, y):\n",
    "                # for each sample compute the update value\n",
    "                update = self.learning_rate * (yi - self.predict(xi))\n",
    "                # and apply it to the y-intercept and weights array\n",
    "                self._b += update\n",
    "                self._w += update * xi\n",
    "                errors += int(update != 0.0)\n",
    "\n",
    "            self.misclassified_samples.append(errors)\n",
    "\n",
    "    def f(self, x: np.array) -> float:\n",
    "        \"\"\"\n",
    "        compute the output of the neuron\n",
    "        :param x: input features\n",
    "        :return: the output of the neuron\n",
    "        \"\"\"\n",
    "        return np.dot(x, self._w) + self._b\n",
    "\n",
    "    def predict(self, x: np.array):\n",
    "        \"\"\"\n",
    "        convert the output of the neuron to a binary output\n",
    "        :param x: input features\n",
    "        :return: 1 if the output for the sample is positive (or zero),\n",
    "        -1 otherwise\n",
    "        \"\"\"\n",
    "        return np.where(self.f(x) >= 0, 1, -1)"
   ]
  },
  {
   "cell_type": "code",
   "execution_count": 2,
   "metadata": {},
   "outputs": [
    {
     "output_type": "execute_result",
     "data": {
      "text/plain": [
       "     0    1    2    3            4\n",
       "0  5.1  3.5  1.4  0.2  Iris-setosa\n",
       "1  4.9  3.0  1.4  0.2  Iris-setosa\n",
       "2  4.7  3.2  1.3  0.2  Iris-setosa\n",
       "3  4.6  3.1  1.5  0.2  Iris-setosa\n",
       "4  5.0  3.6  1.4  0.2  Iris-setosa"
      ],
      "text/html": "<div>\n<style scoped>\n    .dataframe tbody tr th:only-of-type {\n        vertical-align: middle;\n    }\n\n    .dataframe tbody tr th {\n        vertical-align: top;\n    }\n\n    .dataframe thead th {\n        text-align: right;\n    }\n</style>\n<table border=\"1\" class=\"dataframe\">\n  <thead>\n    <tr style=\"text-align: right;\">\n      <th></th>\n      <th>0</th>\n      <th>1</th>\n      <th>2</th>\n      <th>3</th>\n      <th>4</th>\n    </tr>\n  </thead>\n  <tbody>\n    <tr>\n      <th>0</th>\n      <td>5.1</td>\n      <td>3.5</td>\n      <td>1.4</td>\n      <td>0.2</td>\n      <td>Iris-setosa</td>\n    </tr>\n    <tr>\n      <th>1</th>\n      <td>4.9</td>\n      <td>3.0</td>\n      <td>1.4</td>\n      <td>0.2</td>\n      <td>Iris-setosa</td>\n    </tr>\n    <tr>\n      <th>2</th>\n      <td>4.7</td>\n      <td>3.2</td>\n      <td>1.3</td>\n      <td>0.2</td>\n      <td>Iris-setosa</td>\n    </tr>\n    <tr>\n      <th>3</th>\n      <td>4.6</td>\n      <td>3.1</td>\n      <td>1.5</td>\n      <td>0.2</td>\n      <td>Iris-setosa</td>\n    </tr>\n    <tr>\n      <th>4</th>\n      <td>5.0</td>\n      <td>3.6</td>\n      <td>1.4</td>\n      <td>0.2</td>\n      <td>Iris-setosa</td>\n    </tr>\n  </tbody>\n</table>\n</div>"
     },
     "metadata": {},
     "execution_count": 2
    }
   ],
   "source": [
    "import pandas as pd\n",
    "\n",
    "\n",
    "url = 'https://archive.ics.uci.edu/ml/machine-learning-databases/iris/iris.data'\n",
    "# download and convert the csv into a DataFrame\n",
    "df = pd.read_csv(url, header=None)\n",
    "df.head()"
   ]
  },
  {
   "cell_type": "code",
   "execution_count": 9,
   "metadata": {},
   "outputs": [
    {
     "output_type": "error",
     "ename": "SyntaxError",
     "evalue": "invalid character in identifier (<ipython-input-9-d1d1379c905d>, line 9)",
     "traceback": [
      "\u001b[1;36m  File \u001b[1;32m\"<ipython-input-9-d1d1379c905d>\"\u001b[1;36m, line \u001b[1;32m9\u001b[0m\n\u001b[1;33m    ​\u001b[0m\n\u001b[1;37m    ^\u001b[0m\n\u001b[1;31mSyntaxError\u001b[0m\u001b[1;31m:\u001b[0m invalid character in identifier\n"
     ]
    }
   ],
   "source": [
    "import matplotlib.pyplot as plt\n",
    "from mpl_toolkits import mplot3d\n",
    "\n",
    "\n",
    "# extract the label column\n",
    "y = df.iloc[:, 4].values\n",
    "# extract features\n",
    "x = df.iloc[:, 0:3].values\n",
    "​\n",
    "fig = plt.figure()\n",
    "ax = plt.axes(projection='3d')\n",
    "\n",
    "ax.set_title('Iris data set')\n",
    "ax.set_xlabel(\"Sepal length in width (cm)\")\n",
    "ax.set_ylabel(\"Sepal width in width (cm)\")\n",
    "ax.set_zlabel(\"Petal length in width (cm)\")\n",
    "​\n",
    "# plot the samples\n",
    "ax.scatter(x[:50, 0], x[:50, 1], x[:50, 2], color='red', \n",
    "           marker='o', s=4, edgecolor='red', label=\"Iris Setosa\")\n",
    "ax.scatter(x[50:100, 0], x[50:100, 1], x[50:100, 2], color='blue', \n",
    "           marker='^', s=4, edgecolor='blue', label=\"Iris Versicolour\")\n",
    "ax.scatter(x[100:150, 0], x[100:150, 1], x[100:150, 2], color='green', \n",
    "           marker='x', s=4, edgecolor='green', label=\"Iris Virginica\")\n",
    "​\n",
    "plt.legend(loc='upper left')\n",
    "plt.show()"
   ]
  },
  {
   "cell_type": "code",
   "execution_count": null,
   "metadata": {},
   "outputs": [],
   "source": []
  }
 ]
}