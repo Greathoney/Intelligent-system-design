{
 "metadata": {
  "language_info": {
   "codemirror_mode": {
    "name": "ipython",
    "version": 3
   },
   "file_extension": ".py",
   "mimetype": "text/x-python",
   "name": "python",
   "nbconvert_exporter": "python",
   "pygments_lexer": "ipython3",
   "version": "3.8.8-final"
  },
  "orig_nbformat": 2,
  "kernelspec": {
   "name": "python3",
   "display_name": "Python 3.8.8 64-bit ('isd_env': conda)",
   "metadata": {
    "interpreter": {
     "hash": "bd981a0fb0a6bb4c4a7911b53bdee35f4408d0a25f73998a3e0a20a22928721e"
    }
   }
  }
 },
 "nbformat": 4,
 "nbformat_minor": 2,
 "cells": [
  {
   "cell_type": "code",
   "execution_count": 1,
   "metadata": {},
   "outputs": [],
   "source": [
    "import sys\n",
    "import numpy as np"
   ]
  },
  {
   "source": [
    "# f = open(\"iris.csv\", 'r')\n",
    "# col_title = f.readline()\n",
    "# col_title = col_title.split(\",\")\n",
    "# col_title = col_title[:-1]\n",
    "\n",
    "f = open(\"iris.txt\", 'r')\n",
    "col_title = f.readline()\n",
    "col_title = col_title.split(\"\\t\")\n",
    "col_title = col_title[:-1]\n",
    "\n",
    "data = [np.array([]) for i in range(len(col_title))]\n",
    "\n",
    "while True:\n",
    "    line = f.readline()\n",
    "    if not line:\n",
    "        break\n",
    "\n",
    "    line = line.split(\"\\t\")\n",
    "    line = line[:-1]\n",
    "    for index in range(len(col_title)):\n",
    "        data[index] = np.append(data[index], float(line[index]))\n",
    "\n",
    "f.close()"
   ],
   "cell_type": "code",
   "metadata": {},
   "execution_count": 2,
   "outputs": []
  },
  {
   "cell_type": "code",
   "execution_count": 3,
   "metadata": {},
   "outputs": [
    {
     "output_type": "stream",
     "name": "stdout",
     "text": [
      "------------------------------------------------------------------\n                   SL             SW             PL             PW\nmean             5.84           3.05           3.76           1.20\nstd              0.83           0.43           1.76           0.76\n------------------------------------------------------------------\n"
     ]
    }
   ],
   "source": [
    "print(\"------------------------------------------------------------------\")\n",
    "\n",
    "print(\"%-6s\" % \"\", end='')\n",
    "for index in col_title:\n",
    "    print(\"%15s\" % index, end=\"\")\n",
    "print()\n",
    "\n",
    "print(\"%-6s\" % \"mean\", end=\"\")\n",
    "for index in range(len(col_title)):\n",
    "    mean = np.mean(data[index])\n",
    "    mean = np.round(mean, 2)\n",
    "    print(\"%15.02f\" % mean, end=\"\")\n",
    "print()\n",
    "\n",
    "print(\"%-6s\" % \"std\", end=\"\")\n",
    "for index in range(len(col_title)):\n",
    "    std = np.std(data[index])\n",
    "    std = np.round(std, 2)\n",
    "    print(\"%15.02f\" % std, end=\"\")\n",
    "print()\n",
    "print(\"------------------------------------------------------------------\")"
   ]
  },
  {
   "cell_type": "code",
   "execution_count": null,
   "metadata": {},
   "outputs": [],
   "source": []
  }
 ]
}