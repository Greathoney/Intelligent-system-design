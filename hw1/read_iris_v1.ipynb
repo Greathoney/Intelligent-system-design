{
 "metadata": {
  "language_info": {
   "codemirror_mode": {
    "name": "ipython",
    "version": 3
   },
   "file_extension": ".py",
   "mimetype": "text/x-python",
   "name": "python",
   "nbconvert_exporter": "python",
   "pygments_lexer": "ipython3",
   "version": "3.8.8-final"
  },
  "orig_nbformat": 2,
  "kernelspec": {
   "name": "python3",
   "display_name": "Python 3.8.8 64-bit ('isd_env': conda)",
   "metadata": {
    "interpreter": {
     "hash": "bd981a0fb0a6bb4c4a7911b53bdee35f4408d0a25f73998a3e0a20a22928721e"
    }
   }
  }
 },
 "nbformat": 4,
 "nbformat_minor": 2,
 "cells": [
  {
   "cell_type": "code",
   "execution_count": 20,
   "metadata": {},
   "outputs": [],
   "source": [
    "import sys\n",
    "import numpy as np\n",
    "import pandas as pd"
   ]
  },
  {
   "cell_type": "code",
   "execution_count": 21,
   "metadata": {},
   "outputs": [],
   "source": [
    "delimeter = ','\n",
    "f = pd.read_csv(\"iris.csv\",sep=delimeter,engine='python')\n",
    "\n",
    "# delimeter = '[ \\t\\n\\r]'\n",
    "# f = pd.read_csv(\"iris.txt\",sep=delimeter,engine='python')"
   ]
  },
  {
   "cell_type": "code",
   "execution_count": 30,
   "metadata": {},
   "outputs": [
    {
     "output_type": "stream",
     "name": "stdout",
     "text": [
      "------------------------------------------------------------------\n        sepal_length    sepal_width    petal_length    petal_width    "
     ]
    }
   ],
   "source": [
    "print(\"------------------------------------------------------------------\")\n",
    "col_title = f.columns.tolist()\n",
    "\n",
    "print(\"        \", end='')\n",
    "for index in col_title[:-1]:\n",
    "    print(\"%10s\".format(index), end='    ')\n",
    "print()\n",
    "\n",
    "print(mean)\n",
    "for index in col_title[:-1]:\n",
    "    ...\n",
    "    print(\"%16s\")\n"
   ]
  },
  {
   "cell_type": "code",
   "execution_count": null,
   "metadata": {},
   "outputs": [],
   "source": []
  }
 ]
}